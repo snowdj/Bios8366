{
 "cells": [
  {
   "cell_type": "markdown",
   "metadata": {},
   "source": [
    "# Univariate and Multivariate Optimization\n",
    "\n",
    "The first two lectures of the course will serve to satisfy two objectives:\n",
    "\n",
    "1. Acquaint students with the Python programming language\n",
    "2. Review an important class of statistical computing algorithms: *optimization*\n",
    "\n",
    "For some of you, one or both of these topics will likely be review. "
   ]
  },
  {
   "cell_type": "markdown",
   "metadata": {},
   "source": [
    "Let's begin by importing the packages we will need for this section.\n",
    "\n",
    "> ### Import statements\n",
    "> Much of Python's power resides in **modules**, either those included in base Python or from third parties, which contain functions and classes that provide key functionality for specialized tasks. We will import several of these modules, here to enable us to more easily peform scientific computing tasks, such as linear algebra, data manipulation, and plotting. The `import` clause will bring the module into the current session.\n",
    "> Here we also create **aliases** for each module, so that they may be accessed more easily."
   ]
  },
  {
   "cell_type": "code",
   "execution_count": 1,
   "metadata": {},
   "outputs": [],
   "source": [
    "%matplotlib inline\n",
    "import numpy as np\n",
    "import pandas as pd\n",
    "import seaborn as sns\n",
    "import matplotlib.pyplot as plt"
   ]
  },
  {
   "cell_type": "markdown",
   "metadata": {},
   "source": [
    "> For example, the `seaborn` package provides some high-level plotting capability. Here, we will call the `set_context` function from `seaborn`, which allows us to adjust the size of the labels, lines, and other elements of plots. The `'notebook'` argument tells `seaborn` to set these elements to be suitable for display within a Jupyter Notebook."
   ]
  },
  {
   "cell_type": "code",
   "execution_count": 2,
   "metadata": {},
   "outputs": [],
   "source": [
    "# Set some Seaborn options\n",
    "sns.set(context='notebook', style='ticks', palette='viridis')"
   ]
  },
  {
   "cell_type": "markdown",
   "metadata": {},
   "source": [
    "## Optimization\n",
    "\n",
    "Optimization is the process of finding the *minima* or *maxima* of a function. Consider a function:\n",
    "\n",
    "$$f: \\mathbf{R} \\rightarrow \\mathbf{R}$$\n",
    "\n",
    "where $f',f''$ are continuous. A point $x^*$ is a *global* maximum if:\n",
    "\n",
    "$$f(x) \\le f(x^*) \\, \\forall \\, x$$\n",
    "\n",
    "or a *local* maximum if:\n",
    "\n",
    "$$f(x) \\le f(x^*)$$ \n",
    "$$\\forall \\, x:|x-x^*| \\lt \\epsilon$$\n",
    "\n",
    "Necessary conditions:\n",
    "\n",
    "1. $f'(x^*) = 0$\n",
    "2. $f''(x^*) \\le 0$ (sufficient if $f''(x^*) \\lt 0$)\n",
    "\n",
    "We will consider **local search** methods that generate a series of values that converge to the maximum:\n",
    "\n",
    "$$x_0, x_1, x_2, \\ldots \\rightarrow \\text{argmax}(f)$$"
   ]
  },
  {
   "cell_type": "markdown",
   "metadata": {},
   "source": [
    "## Example: Maximum Likelihood\n",
    "\n",
    "**Maximum likelihood** (ML) is an approach for estimating the parameters of statistical models. The resulting estimates from ML have good theoretical properties, so it is a widely-used method. \n",
    "\n",
    "There is a ton of theory regarding ML. We will restrict ourselves to the mechanics here.\n",
    "\n",
    "Say we have some data $y = y_1,y_2,\\ldots,y_n$ that is distributed according to some distribution:\n",
    "\n",
    "<div style=\"font-size: 120%;\">  \n",
    "$$Pr(Y_i=y_i | \\theta)$$\n",
    "</div>"
   ]
  },
  {
   "cell_type": "markdown",
   "metadata": {},
   "source": [
    "> ### Random number generation\n",
    "> The `numpy` module contains a `random` submodule with functions for generating random values from several important probability distributions. For example, if we want to generate 100 values from a **Poisson distribution** with a mean of 5, we can make the following function call:"
   ]
  },
  {
   "cell_type": "code",
   "execution_count": 3,
   "metadata": {},
   "outputs": [],
   "source": [
    "y = np.random.poisson(5, size=100)"
   ]
  },
  {
   "cell_type": "markdown",
   "metadata": {},
   "source": [
    "> The variable `y` is now the label associated with the resulting 100 values that we have sampled. They are stored in a data structure called an `ndarray`."
   ]
  },
  {
   "cell_type": "code",
   "execution_count": 4,
   "metadata": {},
   "outputs": [
    {
     "data": {
      "text/plain": [
       "numpy.ndarray"
      ]
     },
     "execution_count": 4,
     "metadata": {},
     "output_type": "execute_result"
    }
   ],
   "source": [
    "type(y)"
   ]
  },
  {
   "cell_type": "markdown",
   "metadata": {},
   "source": [
    "> We can arbitrarily acces values of this array by **indexing** them, specifying values or ranges of values within square brackets. For example, to get the first value:"
   ]
  },
  {
   "cell_type": "code",
   "execution_count": 5,
   "metadata": {},
   "outputs": [
    {
     "data": {
      "text/plain": [
       "4"
      ]
     },
     "execution_count": 5,
     "metadata": {},
     "output_type": "execute_result"
    }
   ],
   "source": [
    "y[0]"
   ]
  },
  {
   "cell_type": "markdown",
   "metadata": {},
   "source": [
    "> Notice Python begins indexing values starting at zero, rather than one. To extract a sub-array, we can use a *slice*, denoted by the boundaries of the sub-array separated with a colon:"
   ]
  },
  {
   "cell_type": "code",
   "execution_count": 6,
   "metadata": {},
   "outputs": [
    {
     "data": {
      "text/plain": [
       "array([4, 6, 5, 3, 3, 4, 8, 2, 5, 6])"
      ]
     },
     "execution_count": 6,
     "metadata": {},
     "output_type": "execute_result"
    }
   ],
   "source": [
    "y[:10]"
   ]
  },
  {
   "cell_type": "markdown",
   "metadata": {},
   "source": [
    "Let's plot a histogram of the sampled values:"
   ]
  },
  {
   "cell_type": "code",
   "execution_count": 7,
   "metadata": {},
   "outputs": [
    {
     "data": {
      "image/png": "[encoded data removed]",
      "text/plain": [
       "<Figure size 432x288 with 1 Axes>"
      ]
     },
     "metadata": {},
     "output_type": "display_data"
    }
   ],
   "source": [
    "sns.distplot(y, kde=False, axlabel='y');"
   ]
  },
  {
   "cell_type": "markdown",
   "metadata": {},
   "source": [
    "The product $\\prod_{i=1}^n Pr(y_i | \\theta)$ gives us a measure of how **likely** it is for the parameters $\\theta$ to have generated values $y_1,\\ldots,y_n$. Maximum likelihood fitting consists of choosing the appropriate function $l= Pr(Y|\\theta)$ to maximize for a given set of observations. We call this function the *likelihood function*, because it is a measure of how likely the parameter values are if the model is true; that is, \"Given these data, how likely is this model?\""
   ]
  },
  {
   "cell_type": "markdown",
   "metadata": {},
   "source": [
    "In the above model, the data were drawn from a Poisson distribution with parameter $\\lambda =5$.\n",
    "\n",
    "$$L(y|\\lambda=5) = \\frac{e^{-5} 5^y}{y!}$$\n",
    "\n",
    "So, for any given value of $y$, we can calculate its likelihood.\n",
    "\n",
    "> ### Functions\n",
    "> We can specify our own functions using the `def` clause. The function has three components:\n",
    "> * name\n",
    "> * arguments\n",
    "> * body\n",
    ">\n",
    "> If the function is meant to provide output when called, a `return` statement must be specified."
   ]
  },
  {
   "cell_type": "code",
   "execution_count": 8,
   "metadata": {},
   "outputs": [],
   "source": [
    "def poisson_like(x, lam): \n",
    "    return np.exp(-lam) * (lam**x) / (np.arange(x)+1).prod()"
   ]
  },
  {
   "cell_type": "markdown",
   "metadata": {},
   "source": [
    "> Let's try calling our function with two arbitrary values for the Poisson mean parameter `lam` and a particular `value` we want the likelihood value returned for:"
   ]
  },
  {
   "cell_type": "code",
   "execution_count": 9,
   "metadata": {},
   "outputs": [
    {
     "data": {
      "text/plain": [
       "0.041303093412337726"
      ]
     },
     "execution_count": 9,
     "metadata": {},
     "output_type": "execute_result"
    }
   ],
   "source": [
    "lam = 6\n",
    "value = 10\n",
    "\n",
    "poisson_like(value, lam)"
   ]
  },
  {
   "cell_type": "markdown",
   "metadata": {},
   "source": [
    "Or, for numerical stability, the log-likelihood:"
   ]
  },
  {
   "cell_type": "code",
   "execution_count": 10,
   "metadata": {},
   "outputs": [
    {
     "data": {
      "text/plain": [
       "-3.1868178807949654"
      ]
     },
     "execution_count": 10,
     "metadata": {},
     "output_type": "execute_result"
    }
   ],
   "source": [
    "poisson_loglike = lambda x, lam: -lam + np.log(lam**x) - np.log(np.arange(x)+1).sum()\n",
    "\n",
    "poisson_loglike(value, lam)"
   ]
  },
  {
   "cell_type": "markdown",
   "metadata": {},
   "source": [
    "> ### `lambda` functions\n",
    "> A useful Python idiom is the `lambda` function. This is a shorthand that allows one-line functions to be specified anonymously.\n",
    "\n",
    "The **joint** log-likelihood is then just the sum of the likelihood calculated for all of the data."
   ]
  },
  {
   "cell_type": "code",
   "execution_count": 11,
   "metadata": {},
   "outputs": [
    {
     "data": {
      "text/plain": [
       "-234.11080584551598"
      ]
     },
     "execution_count": 11,
     "metadata": {},
     "output_type": "execute_result"
    }
   ],
   "source": [
    "np.sum(poisson_loglike(yi, lam) for yi in y)"
   ]
  },
  {
   "cell_type": "markdown",
   "metadata": {},
   "source": [
    "> ### Comprehensions\n",
    "> Notice how we looped over all of the values of `y` in the above. This is another Python idiom called a `comprehension`, which is a construct that allows sequences to be built from other sequences. The most common is a **list comprehension**:\n",
    ">\n",
    ">      [x**2 + 5 for x in x_values]\n",
    "> In our likeihood calculation, the comprehension results in a **generator** that yields values as they are needed, rather than when the data structure is created.\n",
    "> ![list comprehension](images/listComprehensions.gif)\n",
    "\n",
    "We can compare this value with the log-likelihood for a different value of the parameter."
   ]
  },
  {
   "cell_type": "code",
   "execution_count": 12,
   "metadata": {},
   "outputs": [
    {
     "data": {
      "text/plain": [
       "-296.023411068661"
      ]
     },
     "execution_count": 12,
     "metadata": {},
     "output_type": "execute_result"
    }
   ],
   "source": [
    "lam = 8\n",
    "np.sum(poisson_loglike(yi, lam) for yi in y)"
   ]
  },
  {
   "cell_type": "markdown",
   "metadata": {},
   "source": [
    "We can plot the likelihood function for any value of the parameter(s):"
   ]
  },
  {
   "cell_type": "code",
   "execution_count": 13,
   "metadata": {},
   "outputs": [
    {
     "data": {
      "image/png": "[encoded data removed]",
      "text/plain": [
       "<Figure size 432x288 with 1 Axes>"
      ]
     },
     "metadata": {},
     "output_type": "display_data"
    }
   ],
   "source": [
    "# Create a linear space of values between 0 and 15\n",
    "lambdas = np.linspace(0,15)\n",
    "\n",
    "# A data point\n",
    "x = 5\n",
    "\n",
    "plt.plot(lambdas, [poisson_like(x, l) for l in lambdas])\n",
    "plt.xlabel('$\\lambda$')\n",
    "plt.ylabel('L($\\lambda$|x={0})'.format(x));"
   ]
  },
  {
   "cell_type": "markdown",
   "metadata": {},
   "source": [
    "How is the likelihood function different than the probability distribution (or mass) function? The likelihood is a function of the parameter(s) **given the data**, whereas the PDF (PMF) returns the probability of data given a particular **parameter value**. \n",
    "\n",
    "Here is the PMF of the Poisson for $\\lambda=5$."
   ]
  },
  {
   "cell_type": "code",
   "execution_count": 14,
   "metadata": {},
   "outputs": [
    {
     "data": {
      "image/png": "[encoded data removed]",
      "text/plain": [
       "<Figure size 432x288 with 1 Axes>"
      ]
     },
     "metadata": {},
     "output_type": "display_data"
    }
   ],
   "source": [
    "lam = 5\n",
    "xvals = np.arange(15)\n",
    "\n",
    "plt.bar(xvals, [poisson_like(x, lam) for x in xvals])\n",
    "plt.xlabel('x')\n",
    "plt.ylabel('Pr(X|$\\lambda$=5)');"
   ]
  },
  {
   "cell_type": "markdown",
   "metadata": {},
   "source": [
    "Why are we interested in the likelihood function? \n",
    "\n",
    "A reasonable estimate of the true, unknown value for the parameter is one which **maximizes the likelihood function**. So, inference is reduced to an optimization problem."
   ]
  },
  {
   "cell_type": "markdown",
   "metadata": {},
   "source": [
    "### Example: Nashville rainfall data"
   ]
  },
  {
   "cell_type": "markdown",
   "metadata": {},
   "source": [
    "Consider again the Nashville precipitation data (`nashville_precip.txt`), in your data directory, which records the monthly rainfall from 1871 to 2011. Since this is continuous, positive data, it may be possible to model it using a Gamma distribution. If so, we need to maximize:\n",
    "\n",
    "$$\\begin{align}l(\\alpha,\\beta) &= \\sum_{i=1}^n \\log[\\beta^{\\alpha} x^{\\alpha-1} e^{-x/\\beta}\\Gamma(\\alpha)^{-1}] \\cr \n",
    "&= n[(\\alpha-1)\\overline{\\log(x)} - \\bar{x}\\beta + \\alpha\\log(\\beta) - \\log\\Gamma(\\alpha)]\\end{align}$$\n",
    "\n",
    "where $n = 2012 − 1871 = 141$ and the bar indicates an average over all *i*. We choose $\\alpha$ and $\\beta$ to maximize $l(\\alpha,\\beta)$.\n",
    "\n",
    "Notice $l$ is infinite if any $x$ is zero. We do not have any zeros, but we do have an NA value for one of the October data."
   ]
  },
  {
   "cell_type": "markdown",
   "metadata": {},
   "source": [
    "### Finding the MLE\n",
    "\n",
    "To find the maximum of any function, we typically take the *derivative* with respect to the variable to be maximized, set it to zero and solve for that variable. \n",
    "\n",
    "$$\\frac{\\partial l(\\alpha,\\beta)}{\\partial \\beta} = n\\left(\\frac{\\alpha}{\\beta} - \\bar{x}\\right) = 0$$\n",
    "\n",
    "$$\\frac{\\partial l(\\alpha,\\beta)}{\\partial \\alpha} = n\\left(\\log(\\beta) -\\frac{\\Gamma(\\alpha)'}{\\Gamma(\\alpha)} + \\overline{\\log(x)}\\right) = 0$$\n",
    "\n",
    "So, in general we are finding:\n",
    "\n",
    "$$l(\\theta) = \\left(\\frac{d\\theta}{d\\theta_1}, \\cdots, \\frac{d\\theta}{d\\theta_n}\\right) = \\mathbf{0}$$\n",
    "\n",
    "Thus, we seek the root of the score equation."
   ]
  },
  {
   "cell_type": "markdown",
   "metadata": {},
   "source": [
    "In Python, we can use Sympy to obtain the first derivative of the gamma likelihood with respect to $\\beta$, using symbolic differentiation."
   ]
  },
  {
   "cell_type": "code",
   "execution_count": 15,
   "metadata": {},
   "outputs": [
    {
     "data": {
      "text/plain": [
       "a/b - x"
      ]
     },
     "execution_count": 15,
     "metadata": {},
     "output_type": "execute_result"
    }
   ],
   "source": [
    "# via Sympy\n",
    "import sympy as sy\n",
    "\n",
    "a, b, x = sy.symbols('a b x')\n",
    "gamma_dist = (a-1)*sy.log(x) - x*b + a*sy.log(b) - sy.log(sy.gamma(a))\n",
    "sy.diff(gamma_dist, b)"
   ]
  },
  {
   "cell_type": "markdown",
   "metadata": {},
   "source": [
    "Which can be solved as $\\beta = \\alpha/\\bar{x}$. However, plugging this into the derivative with respect to $\\alpha$ yields:\n",
    "\n",
    "$$\\frac{\\partial l(\\alpha,\\beta)}{\\partial \\alpha} = \\log(\\alpha) + \\overline{\\log(x)} - \\log(\\bar{x}) - \\frac{\\Gamma(\\alpha)'}{\\Gamma(\\alpha)} = 0$$\n",
    "\n",
    "This has no closed form solution. We must use ***numerical optimization***!"
   ]
  },
  {
   "cell_type": "markdown",
   "metadata": {},
   "source": [
    "## Bisection method\n",
    "\n",
    "The bisection method performs numerical root-finding for univariate problems. It works on continuous functions on $[a_0, b_0]$ where:\n",
    "\n",
    "$$f^{\\prime}(a_0)f^{\\prime}(b_0) \\le 0$$\n",
    "\n",
    "which implies that there is a local maximum (minimum) between the two values somewhere.\n",
    "\n",
    "The initial interval $[a_0, b_0]$ is arbitrary, as long as the above condition is met.\n",
    "\n",
    "The algorithm iteratively shrinks the interval $[a_i,b_i]$, by subdividing it and retaining the subinterval for which the above condition is still true. If there are multiple optima, bisection will only find one of them.\n",
    "\n",
    "Due to a number of factors, including rounding error in floating point calculations, iterative procedures can easily run indefinitely. To avoid this, we specify a **stopping rule** that halts the algorithm based on some pre-defined convergence criteria.\n",
    "\n",
    "Since we are searching for a root, one approach is to monitor the convergence of $f^{\\prime}((a_i + b_i)/2)$ to zero. However, when the likelihood is very flat, there can be very large changes in the estimated value even when $f^{\\prime}(x)$ is small. Instead, we should monitor the **difference** in values from one iteration to the next.\n",
    "\n",
    "> **absolute convergence criterion**:\n",
    "> \n",
    "> $$| x_{i+1} - x_{i} | \\lt \\epsilon$$\n",
    "> \n",
    "> where $\\epsilon$ is a chosen tolerance.\n",
    "> \n",
    "> **relative convergence criterion**:\n",
    "> \n",
    "> $$\\frac{| x_{i+1} - x_{i} |}{|x_{i}|} \\lt \\epsilon$$\n",
    "> \n",
    "> In general:\n",
    "> \n",
    "> * if values of $x$ are orders of magnitude larger (smaller) than $\\epsilon$, absolute convergence may stop too late (soon)\n",
    "> * if the solution is too close to zero, relative convergence may become unstable\n",
    "\n",
    "\n",
    "Note that for the bisection method:\n",
    "\n",
    "$$b_t - a_t = \\frac{b_0 - a_0}{2^t}$$\n",
    "\n",
    "which means that for a given $\\epsilon$, we require: \n",
    "\n",
    "$$t > \\log_2\\left(\\frac{b_0 - a_0}{\\epsilon}\\right)$$\n",
    "\n",
    "Reducing $\\epsilon$ by a factor of 10 means increasing $t$ by $\\log_2(10) \\approx 3.3$.\n",
    "\n",
    "It is also wise to place an absolute limit on the number of iterations, in case the algorithm diverges or cycles."
   ]
  },
  {
   "cell_type": "markdown",
   "metadata": {},
   "source": [
    "> ### `while` loop\n",
    "> In the function below, we employ a `while` loop, which executes the subsequent code block until the specified condition is no longer true.\n",
    "\n",
    "> ### Functions as arguments\n",
    "> Notice that one of the arguments to `bisection` is expected to be a function (the function we are trying to find the root of). In Python, functions are first-class objects, and can therefore be assigned to variables, deleted, passed as an argument, or anything else you might do with another object, such as an array of data."
   ]
  },
  {
   "cell_type": "code",
   "execution_count": 16,
   "metadata": {},
   "outputs": [],
   "source": [
    "class ConvergenceError(Exception): pass\n",
    "\n",
    "def bisection(func, a, b, tol=1e-9, max_iter=100):\n",
    "\n",
    "    # Check initial values\n",
    "    if a >= b:\n",
    "        raise ValueError('Right value must be larger than left')\n",
    "    \n",
    "    fa, fb = func([a, b])\n",
    "    \n",
    "    if fa*fb > 0:\n",
    "        raise ValueError('No maximum between specified values')\n",
    "    \n",
    "    i = 0\n",
    "    while (b - a) > tol:\n",
    "        \n",
    "        # More stable than c = (b + a)/2.\n",
    "        c = a + (b - a)/2.\n",
    "        fc = func(c)\n",
    "        \n",
    "        if fa*fc < 0:\n",
    "            b,fb = c,fc\n",
    "        else:\n",
    "            a,fa = c,fc\n",
    "            \n",
    "        i +=1\n",
    "        \n",
    "        if i == max_iter:\n",
    "            raise ConvergenceError('The algorithm did not converge in {0} iterations'.format(max_iter))\n",
    "        \n",
    "    return(a + (b - a)/2., i)"
   ]
  },
  {
   "cell_type": "markdown",
   "metadata": {},
   "source": [
    "> ### Errors and Exceptions\n",
    "> Information about errors when running Python code is provided using an `Exception` object. An **object** is a particular instance of a **class**, which is a programming abstraction that aggregates related functions and attibutes in a single data structure. We are using a particular **subclass** of `Exception` to denote when we have a bad argument value passed to our function.\n",
    ">\n",
    "> Notice that we are deliberately triggering errors in this function, via the `raise` clause. Why would we want to do this?\n",
    ">\n",
    "> We also create a special subclass of the built-in `Exception` class to be used when our algorithm fails to converge, which we will call a `ConvergenceError`."
   ]
  },
  {
   "cell_type": "markdown",
   "metadata": {},
   "source": [
    "To apply this algorithm to the precipitation data, we need a function for the derivative of the log likelihood with respect to one of the parameters, in this case, `beta`.\n",
    "\n",
    "First, let's import our data.\n",
    "\n",
    "> ### Reading tabular data\n",
    "> Our first use of `pandas` will be to import data from a text file. Pandas includes several `read_` functions corrsponding to common file formats. In this case, we are importing a table of precipitation values, stored as a plain text file with values separated by varying numbers of whitespace characters. The `sep` argument below accepts any character that might be used as a separator, as well as a **regular expression**, which we use here."
   ]
  },
  {
   "cell_type": "code",
   "execution_count": 17,
   "metadata": {},
   "outputs": [],
   "source": [
    "precip = pd.read_table(\"../data/nashville_precip.txt\", sep='\\s+')"
   ]
  },
  {
   "cell_type": "code",
   "execution_count": 18,
   "metadata": {},
   "outputs": [
    {
     "data": {
      "text/plain": [
       "Year    0\n",
       "Jan     0\n",
       "Feb     0\n",
       "Mar     0\n",
       "Apr     0\n",
       "May     0\n",
       "Jun     0\n",
       "Jul     0\n",
       "Aug     0\n",
       "Sep     0\n",
       "Oct     1\n",
       "Nov     0\n",
       "Dec     0\n",
       "dtype: int64"
      ]
     },
     "execution_count": 18,
     "metadata": {},
     "output_type": "execute_result"
    }
   ],
   "source": [
    "precip.isnull().sum()"
   ]
  },
  {
   "cell_type": "markdown",
   "metadata": {},
   "source": [
    "Since maximizing the likelihood conditions on the data, we can calculate a couple of values ahead of time, namely the log-mean of the data and the mean of the log-transformed values.\n",
    "\n",
    "> ### Method chaining\n",
    "> Notice below that calculations are performed by **chaining** method calls one after the other, using the \"dot notation\". For `log_mean`, we first calculate the mean, and apply the `log` function to that value as soon as it is returned. We only assign a value to a parameter when the final quantity of interest is returned.\n",
    ">"
   ]
  },
  {
   "cell_type": "code",
   "execution_count": 19,
   "metadata": {},
   "outputs": [],
   "source": [
    "# Calculate statistics\n",
    "log_mean = precip.mean().apply(np.log)\n",
    "mean_log = precip.apply(np.log).mean()"
   ]
  },
  {
   "cell_type": "markdown",
   "metadata": {},
   "source": [
    "Here is an advanced example of method chaining that reshapes, resamples and summarizes a diseaase outbreak monitoring dataset in one line, using method chaining:\n",
    "\n",
    "```python\n",
    "confirmed_counts_2w = (confirmed_data\n",
    "                        .groupby(['ONSET', 'AGE_GROUP'])\n",
    "                        .size()\n",
    "                        .unstack()\n",
    "                        .reindex(dates_index)\n",
    "                        .fillna(0)\n",
    "                        .resample('2W')\n",
    "                        .sum()\n",
    "                        .pipe(check.is_shape, \n",
    "                              (28, len(age_groups))))\n",
    "```\n",
    "\n",
    "We will see more of this when we start using the `pandas` package for tabular data.\n",
    "\n",
    "> ### SciPy functions\n",
    "> The SciPy library is one of the core packages that make up the Python *scientific stack*. It provides many user-friendly and efficient numerical routines such as routines for numerical integration and optimization. Here, we are using its `psi` function, which is the derivative of the logarithm of the gamma function evaluated at whichever value is passed to it (also called the digamma function)."
   ]
  },
  {
   "cell_type": "code",
   "execution_count": 20,
   "metadata": {},
   "outputs": [],
   "source": [
    "from scipy.special import psi\n",
    "\n",
    "def dlgamma(m, month = 'Dec'): \n",
    "    return np.log(m) - psi(m) - log_mean[month] + mean_log[month]"
   ]
  },
  {
   "cell_type": "markdown",
   "metadata": {},
   "source": [
    "To obtain reasonable starting points, there are a handful of strategies:\n",
    "\n",
    "* plotting the function, and obtain a visual estimate\n",
    "* preliminary estimates via other approximate solutions\n",
    "* trial and error\n",
    "\n",
    "Here, we will plot the function:"
   ]
  },
  {
   "cell_type": "code",
   "execution_count": 21,
   "metadata": {},
   "outputs": [
    {
     "data": {
      "image/png": "[encoded data removed]",
      "text/plain": [
       "<Figure size 432x288 with 1 Axes>"
      ]
     },
     "metadata": {},
     "output_type": "display_data"
    }
   ],
   "source": [
    "x = np.linspace(1, 5, 100)\n",
    "y = dlgamma(x)\n",
    "\n",
    "plt.plot(x, y)\n",
    "plt.hlines(0, 1, 5, linestyles='--');"
   ]
  },
  {
   "cell_type": "code",
   "execution_count": 22,
   "metadata": {},
   "outputs": [
    {
     "data": {
      "text/plain": [
       "(3.5189678966999054, 25)"
      ]
     },
     "execution_count": 22,
     "metadata": {},
     "output_type": "execute_result"
    }
   ],
   "source": [
    "bisection(dlgamma, 2, 4, tol=1e-7)"
   ]
  },
  {
   "cell_type": "markdown",
   "metadata": {},
   "source": [
    "## Convergence Order\n",
    "\n",
    "We can quantify the *efficiency* of root-finding algorithms by calculating its **order of convergence**.\n",
    "\n",
    "If an algorithm satisfies $\\lim_{i \\rightarrow \\infty} \\epsilon_i = 0$, then the parameter $\\beta$ is the order of convergence according to:\n",
    "\n",
    "$$\\lim_{i \\rightarrow \\infty} \\frac{|\\epsilon_{i+1}|}{|\\epsilon_{i}|^{\\beta}} = c$$\n",
    "\n",
    "for some constant $c$. Larger values of $\\beta$ are the result of faster convergence.\n",
    "\n",
    "Note that there is usually a tradeoff of speed vs. robustness.\n",
    "\n",
    "The bisection method is unusual in that it does not meet the criterion for order of convergence, with the ratio above being possibly unbounded. In practice, it tends to exhibit approximately linear convergence."
   ]
  },
  {
   "cell_type": "markdown",
   "metadata": {},
   "source": [
    "## Fixed Point Iteration\n",
    "\n",
    "Another method for finding roots computationally is *fixed-point iteration*. A **fixed point** of a function is a point at which the evaluation of the point equals the point itself. Mathematically, for some function $g:\\mathbf{R} \\Rightarrow \\mathbf{R}$, a fixed point is:\n",
    "\n",
    "$$a \\in \\mathbf{R}: g(a) = a$$\n",
    "\n",
    "So, if we define our function $f$ as:\n",
    "\n",
    "$$f(x) = c(g(x)-x)$$\n",
    "\n",
    "then we can find the root of $f$ when we find the fixed point of $g$. Conversely:\n",
    "\n",
    "$$g(x) = c_1f(x) + x$$"
   ]
  },
  {
   "cell_type": "markdown",
   "metadata": {},
   "source": [
    "The method begins with an initial guess $x_0$, from which we generate $x_1 = g(x_0)$, then $x_2 = g(x_1)$, etc.\n",
    "\n",
    "In general, this is a 1st-order recurrence equation:\n",
    "\n",
    "$$x_{n+1} = g(x_{n})$$\n",
    "\n",
    "We can show that $x_n \\rightarrow a$ is a fixed point of $g$.\n",
    "\n",
    "$$a = \\lim_{n \\rightarrow \\infty} x_{n+1} = \\lim_{n \\rightarrow \\infty} g(x_n)$$\n",
    "$$ = g(\\lim_{n \\rightarrow \\infty} x_n) = a$$\n",
    "\n",
    "therefore, $a$ is a fixed point of $g$."
   ]
  },
  {
   "cell_type": "markdown",
   "metadata": {},
   "source": [
    "Unfortunately, this convergence does not always take place. For example, consider the following functions:\n",
    "\n",
    "$$g_1(x) = x^{1.5}, \\, g_2(x) = x^{0.75}$$\n",
    "\n",
    "both $g_1, g_2$ have fixed points at 1 (by inspection), but $g_1$ diverges.\n",
    "\n",
    "In general,\n",
    "\n",
    "* the algorithm converges if $|g'(a)<1|$, and diverges otherwise.\n",
    "* the initial value should be in the \"neighborhood\" of $x_0$ to guarantee convergence.\n",
    "\n",
    "In practice, we may *converge* to $a$ without reaching it. We want to stop when $x_n$ is \"close enough\":\n",
    "\n",
    "$$ |x_n - x_{n-1}| \\le \\epsilon$$"
   ]
  },
  {
   "cell_type": "markdown",
   "metadata": {},
   "source": [
    "### Exercise: Gamma MLE\n",
    "\n",
    "Implement a fixed point algorithm, and use it to calculate the gamma MLE for one of the months of precipitation in Nashville."
   ]
  },
  {
   "cell_type": "code",
   "execution_count": 23,
   "metadata": {},
   "outputs": [],
   "source": [
    "# Write your answer here"
   ]
  },
  {
   "cell_type": "markdown",
   "metadata": {},
   "source": [
    "## Newton's Method\n",
    "\n",
    "Bracketing methods like bisection, which bounds a root within a sequence of intervals that gradually decrease in length, are slow relative to other approaches. A much faster root-finding method is **Newton's method**. \n",
    "\n",
    "If we have a function $f$ that is twice-differentiable, we can approximate the root of its derivative using a Taylor series expansion:\n",
    "\n",
    "$$f^{\\prime}(x^*) \\approx f^{\\prime}(x_i) + (x^* - x_i)f^{\\prime\\prime}(x_i) = 0$$\n",
    "\n",
    "We can approximate $f^{\\prime}$ by its tangent at $x_i$, and then approximate the root of $f^{\\prime}$ by the root of the tangent line:"
   ]
  },
  {
   "cell_type": "markdown",
   "metadata": {},
   "source": [
    "> ### Plotting with `matplotlib`\n",
    "> The illustrative diagram below shows how custom plotting can be implemented in `matplotlib`. Standard plots can be annotated with text and shapes, using the low-level API."
   ]
  },
  {
   "cell_type": "code",
   "execution_count": 24,
   "metadata": {},
   "outputs": [
    {
     "data": {
      "image/png": "[encoded data removed]",
      "text/plain": [
       "<Figure size 432x288 with 1 Axes>"
      ]
     },
     "metadata": {},
     "output_type": "display_data"
    }
   ],
   "source": [
    "# some function\n",
    "func = lambda x: 3./(1 + 400*np.exp(-2*x)) - 1\n",
    "xvals = np.linspace(0, 6)\n",
    "plt.plot(xvals, func(xvals))\n",
    "plt.xlabel('x')\n",
    "plt.text(5.3, 2.1, '$f(x)$', fontsize=16)\n",
    "# zero line\n",
    "plt.plot([0,6], [0,0], 'k-')\n",
    "# value at step n\n",
    "plt.plot([4,4], [0,func(4)], 'k:')\n",
    "plt.text(4, -.2, '$x_n$', fontsize=16)\n",
    "# tangent line\n",
    "tanline = lambda x: -0.858 + 0.626*x\n",
    "plt.plot(xvals, tanline(xvals), 'r--')\n",
    "# point at step n+1\n",
    "xprime = 0.858/0.626\n",
    "plt.plot([xprime, xprime], [tanline(xprime), func(xprime)], 'k:')\n",
    "plt.text(xprime+.1, -.2, '$x_{n+1}$', fontsize=16);"
   ]
  },
  {
   "cell_type": "markdown",
   "metadata": {},
   "source": [
    "If we solve for $x^*$, this gives:\n",
    "\n",
    "$$x^* = x_i - \\frac{f'(x_i)}{f''(x_i)}$$\n",
    "\n",
    "This result is just another approximation, however, so this formula is iterated as:\n",
    "\n",
    "$$x_{i+1} = x_i - \\frac{f'(x_i)}{f''(x_i)}$$\n",
    "\n",
    "In the specific case of a MLE problem, this becomes:\n",
    "\n",
    "$$\\theta_{i+1} = \\theta_i - \\frac{l'(\\theta_i)}{l''(\\theta_i)}$$"
   ]
  },
  {
   "cell_type": "markdown",
   "metadata": {},
   "source": [
    "### Convergence\n",
    "\n",
    "Using Newton's algorithm, $x_i \\rightarrow x^*$ quickly, provided:\n",
    "\n",
    "1. $f'(x^*)=0$\n",
    "2. $f''(x^*)<0$\n",
    "3. $f''$ is *Lipschitz-continuous* in the neighborbood of $x^*$\n",
    "\n",
    "> Lipschitz continuous if there exists a $k$ such that:\n",
    ">\n",
    "> $|f''(x) - f''(y)| \\le k|x-y| \\, \\forall \\, x,y$\n",
    "\n",
    "The following implements Newton's method in Python:\n",
    "\n",
    "> ### Docstrings\n",
    "> An easy way to document functions and classes in Python is to include a **docstring**. Any string added directly following the declaration of the function or class is assumed to be documentation, and is reported when `help` is called on the object. Try it!"
   ]
  },
  {
   "cell_type": "code",
   "execution_count": 25,
   "metadata": {},
   "outputs": [],
   "source": [
    "def newt(f, f_prime, x0, tol=1e-9, max_iter=100, **kwargs):\n",
    "    \"\"\"\n",
    "    Newton-Raphson algorithm for solving f(x) == 0\n",
    "    \n",
    "    Parameters\n",
    "    ==========\n",
    "    f: function\n",
    "        a function of a single variable, x.\n",
    "    f_prime: function\n",
    "        a function that returns the derivative of f at x.\n",
    "    x0: float \n",
    "        the initial guess at the fixed point.\n",
    "    tol: float, optional\n",
    "        minimum distance of consecutive guesses before algorithm stops\n",
    "        (default=1e-9).\n",
    "    max_iter: int, optional \n",
    "        maximum number of iterations to converge to tolerance before\n",
    "        algorithm stops (default=100).\n",
    "        \n",
    "    Returns\n",
    "    =======\n",
    "    x: float\n",
    "        Final value of algorithm\n",
    "    \"\"\"\n",
    "    \n",
    "    # Initialize\n",
    "    x = x0\n",
    "    fx, fpx = f(x, **kwargs), f_prime(x, **kwargs)\n",
    "    i = 0\n",
    "    \n",
    "    # Loop until conditions met\n",
    "    while (abs(fx) > tol) and (i < max_iter):\n",
    "        \n",
    "        x -= fx/fpx\n",
    "        fx, fpx = f(x), f_prime(x)\n",
    "        i += 1\n",
    "                \n",
    "    if abs(fx) > tol:\n",
    "        raise ConvergenceError('Algorithm failed to converge')\n",
    "\n",
    "    return x"
   ]
  },
  {
   "cell_type": "markdown",
   "metadata": {},
   "source": [
    "To apply the Newton-Raphson algorithm, we need a function that returns a vector containing the **first and second derivatives** of the function with respect to the variable of interest. We defined the first derivative above; the second derivative is as follows:"
   ]
  },
  {
   "cell_type": "code",
   "execution_count": 26,
   "metadata": {},
   "outputs": [],
   "source": [
    "from scipy.special import polygamma\n",
    "\n",
    "dl2gamma = lambda m, **kwargs: 1./m - polygamma(1, m)"
   ]
  },
  {
   "cell_type": "markdown",
   "metadata": {},
   "source": [
    "`polygamma` is a complex function of the digamma function that results when you take the nth derivative of that function. So, here `polygamma(1, m)` is the first derivative of the digamma, which is the second derivative of the original gamma."
   ]
  },
  {
   "cell_type": "code",
   "execution_count": 27,
   "metadata": {},
   "outputs": [
    {
     "data": {
      "text/plain": [
       "3.5189679152158173"
      ]
     },
     "execution_count": 27,
     "metadata": {},
     "output_type": "execute_result"
    }
   ],
   "source": [
    "# Alpha MLE for December\n",
    "alpha_mle = newt(dlgamma, dl2gamma, 2, month = 'Dec')\n",
    "alpha_mle"
   ]
  },
  {
   "cell_type": "markdown",
   "metadata": {},
   "source": [
    "And now plug this back into the solution for beta:\n",
    "\n",
    "<div style=\"font-size: 120%;\">  \n",
    "$$ \\beta  = \\frac{\\alpha}{\\bar{X}} $$\n",
    "</div>"
   ]
  },
  {
   "cell_type": "code",
   "execution_count": 28,
   "metadata": {},
   "outputs": [
    {
     "data": {
      "text/plain": [
       "0.8426160754783559"
      ]
     },
     "execution_count": 28,
     "metadata": {},
     "output_type": "execute_result"
    }
   ],
   "source": [
    "beta_mle = alpha_mle/precip.mean()[-1]\n",
    "beta_mle"
   ]
  },
  {
   "cell_type": "markdown",
   "metadata": {},
   "source": [
    "Newton's method is also available to us via SciPy:"
   ]
  },
  {
   "cell_type": "code",
   "execution_count": 29,
   "metadata": {},
   "outputs": [],
   "source": [
    "from scipy.optimize import newton"
   ]
  },
  {
   "cell_type": "markdown",
   "metadata": {},
   "source": [
    "For most common distributions, SciPy also includes methods for fitting via MLE:"
   ]
  },
  {
   "cell_type": "code",
   "execution_count": 30,
   "metadata": {
    "scrolled": true
   },
   "outputs": [
    {
     "data": {
      "text/plain": [
       "(2.242751775315231, 0.6549460447018862, 1.570073932063466)"
      ]
     },
     "execution_count": 30,
     "metadata": {},
     "output_type": "execute_result"
    }
   ],
   "source": [
    "from scipy.stats import gamma\n",
    "\n",
    "gamma.fit(precip.Dec)"
   ]
  },
  {
   "cell_type": "markdown",
   "metadata": {},
   "source": [
    "This fit is not directly comparable to our estimates, however, because SciPy's `gamma.fit` method fits an odd 3-parameter version of the gamma distribution. If we set the location parameter to zero:"
   ]
  },
  {
   "cell_type": "code",
   "execution_count": 31,
   "metadata": {},
   "outputs": [
    {
     "data": {
      "text/plain": [
       "(3.5189679152399784, 0.0, 1.1867801114824805)"
      ]
     },
     "execution_count": 31,
     "metadata": {},
     "output_type": "execute_result"
    }
   ],
   "source": [
    "scipy_params = gamma.fit(precip.Dec, floc=0.)\n",
    "scipy_params"
   ]
  },
  {
   "cell_type": "markdown",
   "metadata": {},
   "source": [
    "To complicate things further, SciPy's gamma distribution uses a parameterization that employs the inverse of beta for its scale parameter."
   ]
  },
  {
   "cell_type": "code",
   "execution_count": 32,
   "metadata": {},
   "outputs": [
    {
     "data": {
      "text/plain": [
       "0.8426160754841417"
      ]
     },
     "execution_count": 32,
     "metadata": {},
     "output_type": "execute_result"
    }
   ],
   "source": [
    "1./scipy_params[-1]"
   ]
  },
  {
   "cell_type": "markdown",
   "metadata": {},
   "source": [
    "### Example\n",
    "\n",
    "This animation illustrates how Newton's method estimates the minimum of a simple polynomial function, $2x^4 + 3x^3 + 3$."
   ]
  },
  {
   "cell_type": "markdown",
   "metadata": {},
   "source": [
    "First, we will need a few functions: here is the polynomial itself, along with the first two derivatives, which we will use to calculate the first two terms of the Taylor series:"
   ]
  },
  {
   "cell_type": "code",
   "execution_count": 33,
   "metadata": {},
   "outputs": [],
   "source": [
    "f = lambda x: 2 * x**4 + 3 * x**3 + 3 \n",
    "\n",
    "df = lambda x: 8 * x**3 + 9 * x**2\n",
    "\n",
    "ddf = lambda x: 24 * x**2 + 18*x\n",
    "\n",
    "taylorf = lambda x, dx: f(x) + df(x) * dx + 0.5 * ddf(x) * dx**2"
   ]
  },
  {
   "cell_type": "markdown",
   "metadata": {},
   "source": [
    "The following is a special type of function called a **generator**. Rather than simply return a value, it returns a generator object that returns the next value in a series of calculated values as they are needed, using the `yield` statement in place of `return`. \n",
    "\n",
    "Here we use a generator to implement Newton's method.\n",
    "\n",
    "> ### global variables\n",
    "> The `global` clause declares a variable inside a code block to be available in enclosing scopes. They should be used sparingly!"
   ]
  },
  {
   "cell_type": "code",
   "execution_count": 34,
   "metadata": {},
   "outputs": [],
   "source": [
    "def generator():\n",
    "    global x\n",
    "    while True:\n",
    "        yield x\n",
    "        delta = df(x) / float(ddf(x))\n",
    "        if abs(delta) < 1e-10:\n",
    "            return\n",
    "        x = x - df(x) / float(ddf(x))"
   ]
  },
  {
   "cell_type": "markdown",
   "metadata": {},
   "source": [
    "This function will update the locations and text of animated objects"
   ]
  },
  {
   "cell_type": "code",
   "execution_count": 35,
   "metadata": {},
   "outputs": [],
   "source": [
    "def update(ignore): #uses global variable x\n",
    "    global x\n",
    "    taylorCurve.set_data(x+dxs, taylorf(x,dxs))\n",
    "    spot.set_data(x,f(x))\n",
    "    dashedLine.set_data((x,x), (y0,y1))\n",
    "    text.set_x(x + 0.1)\n",
    "    text.set_text(str(np.round(x, 3)))\n",
    "    return (taylorCurve, spot, dashedLine, text)"
   ]
  },
  {
   "cell_type": "markdown",
   "metadata": {},
   "source": [
    "Let's aribitrarily initialize the value of the minimum:"
   ]
  },
  {
   "cell_type": "code",
   "execution_count": 36,
   "metadata": {},
   "outputs": [],
   "source": [
    "x = 1.5 "
   ]
  },
  {
   "cell_type": "markdown",
   "metadata": {},
   "source": [
    "Finally, we set up the plot and animate it:"
   ]
  },
  {
   "cell_type": "code",
   "execution_count": 39,
   "metadata": {},
   "outputs": [
    {
     "data": {
      "text/html": [
       "\n",
       "<link rel=\"stylesheet\"\n",
       "href=\"https://maxcdn.bootstrapcdn.com/font-awesome/4.4.0/\n",
       "css/font-awesome.min.css\">\n",
       "<script language=\"javascript\">\n",
       "  /* Define the Animation class */\n",
       "  function Animation(frames, img_id, slider_id, interval, loop_select_id){\n",
       "    this.img_id = img_id;\n",
       "    this.slider_id = slider_id;\n",
       "    this.loop_select_id = loop_select_id;\n",
       "    this.interval = interval;\n",
       "    this.current_frame = 0;\n",
       "    this.direction = 0;\n",
       "    this.timer = null;\n",
       "    this.frames = new Array(frames.length);\n",
       "\n",
       "    for (var i=0; i<frames.length; i++)\n",
       "    {\n",
       "     this.frames[i] = new Image();\n",
       "     this.frames[i].src = frames[i];\n",
       "    }\n",
       "    document.getElementById(this.slider_id).max = this.frames.length - 1;\n",
       "    this.set_frame(this.current_frame);\n",
       "  }\n",
       "\n",
       "  Animation.prototype.get_loop_state = function(){\n",
       "    var button_group = document[this.loop_select_id].state;\n",
       "    for (var i = 0; i < button_group.length; i++) {\n",
       "        var button = button_group[i];\n",
       "        if (button.checked) {\n",
       "            return button.value;\n",
       "        }\n",
       "    }\n",
       "    return undefined;\n",
       "  }\n",
       "\n",
       "  Animation.prototype.set_frame = function(frame){\n",
       "    this.current_frame = frame;\n",
       "    document.getElementById(this.img_id).src =\n",
       "            this.frames[this.current_frame].src;\n",
       "    document.getElementById(this.slider_id).value = this.current_frame;\n",
       "  }\n",
       "\n",
       "  Animation.prototype.next_frame = function()\n",
       "  {\n",
       "    this.set_frame(Math.min(this.frames.length - 1, this.current_frame + 1));\n",
       "  }\n",
       "\n",
       "  Animation.prototype.previous_frame = function()\n",
       "  {\n",
       "    this.set_frame(Math.max(0, this.current_frame - 1));\n",
       "  }\n",
       "\n",
       "  Animation.prototype.first_frame = function()\n",
       "  {\n",
       "    this.set_frame(0);\n",
       "  }\n",
       "\n",
       "  Animation.prototype.last_frame = function()\n",
       "  {\n",
       "    this.set_frame(this.frames.length - 1);\n",
       "  }\n",
       "\n",
       "  Animation.prototype.slower = function()\n",
       "  {\n",
       "    this.interval /= 0.7;\n",
       "    if(this.direction > 0){this.play_animation();}\n",
       "    else if(this.direction < 0){this.reverse_animation();}\n",
       "  }\n",
       "\n",
       "  Animation.prototype.faster = function()\n",
       "  {\n",
       "    this.interval *= 0.7;\n",
       "    if(this.direction > 0){this.play_animation();}\n",
       "    else if(this.direction < 0){this.reverse_animation();}\n",
       "  }\n",
       "\n",
       "  Animation.prototype.anim_step_forward = function()\n",
       "  {\n",
       "    this.current_frame += 1;\n",
       "    if(this.current_frame < this.frames.length){\n",
       "      this.set_frame(this.current_frame);\n",
       "    }else{\n",
       "      var loop_state = this.get_loop_state();\n",
       "      if(loop_state == \"loop\"){\n",
       "        this.first_frame();\n",
       "      }else if(loop_state == \"reflect\"){\n",
       "        this.last_frame();\n",
       "        this.reverse_animation();\n",
       "      }else{\n",
       "        this.pause_animation();\n",
       "        this.last_frame();\n",
       "      }\n",
       "    }\n",
       "  }\n",
       "\n",
       "  Animation.prototype.anim_step_reverse = function()\n",
       "  {\n",
       "    this.current_frame -= 1;\n",
       "    if(this.current_frame >= 0){\n",
       "      this.set_frame(this.current_frame);\n",
       "    }else{\n",
       "      var loop_state = this.get_loop_state();\n",
       "      if(loop_state == \"loop\"){\n",
       "        this.last_frame();\n",
       "      }else if(loop_state == \"reflect\"){\n",
       "        this.first_frame();\n",
       "        this.play_animation();\n",
       "      }else{\n",
       "        this.pause_animation();\n",
       "        this.first_frame();\n",
       "      }\n",
       "    }\n",
       "  }\n",
       "\n",
       "  Animation.prototype.pause_animation = function()\n",
       "  {\n",
       "    this.direction = 0;\n",
       "    if (this.timer){\n",
       "      clearInterval(this.timer);\n",
       "      this.timer = null;\n",
       "    }\n",
       "  }\n",
       "\n",
       "  Animation.prototype.play_animation = function()\n",
       "  {\n",
       "    this.pause_animation();\n",
       "    this.direction = 1;\n",
       "    var t = this;\n",
       "    if (!this.timer) this.timer = setInterval(function() {\n",
       "        t.anim_step_forward();\n",
       "    }, this.interval);\n",
       "  }\n",
       "\n",
       "  Animation.prototype.reverse_animation = function()\n",
       "  {\n",
       "    this.pause_animation();\n",
       "    this.direction = -1;\n",
       "    var t = this;\n",
       "    if (!this.timer) this.timer = setInterval(function() {\n",
       "        t.anim_step_reverse();\n",
       "    }, this.interval);\n",
       "  }\n",
       "</script>\n",
       "\n",
       "<div class=\"animation\" align=\"center\">\n",
       "    <img id=\"_anim_img0d27e69e89b14b4e90acb8001755eaaa\">\n",
       "    <br>\n",
       "    <input id=\"_anim_slider0d27e69e89b14b4e90acb8001755eaaa\" type=\"range\" style=\"width:350px\"\n",
       "           name=\"points\" min=\"0\" max=\"1\" step=\"1\" value=\"0\"\n",
       "           onchange=\"anim0d27e69e89b14b4e90acb8001755eaaa.set_frame(parseInt(this.value));\"></input>\n",
       "    <br>\n",
       "    <button onclick=\"anim0d27e69e89b14b4e90acb8001755eaaa.slower()\"><i class=\"fa fa-minus\"></i></button>\n",
       "    <button onclick=\"anim0d27e69e89b14b4e90acb8001755eaaa.first_frame()\"><i class=\"fa fa-fast-backward\">\n",
       "        </i></button>\n",
       "    <button onclick=\"anim0d27e69e89b14b4e90acb8001755eaaa.previous_frame()\">\n",
       "        <i class=\"fa fa-step-backward\"></i></button>\n",
       "    <button onclick=\"anim0d27e69e89b14b4e90acb8001755eaaa.reverse_animation()\">\n",
       "        <i class=\"fa fa-play fa-flip-horizontal\"></i></button>\n",
       "    <button onclick=\"anim0d27e69e89b14b4e90acb8001755eaaa.pause_animation()\"><i class=\"fa fa-pause\">\n",
       "        </i></button>\n",
       "    <button onclick=\"anim0d27e69e89b14b4e90acb8001755eaaa.play_animation()\"><i class=\"fa fa-play\"></i>\n",
       "        </button>\n",
       "    <button onclick=\"anim0d27e69e89b14b4e90acb8001755eaaa.next_frame()\"><i class=\"fa fa-step-forward\">\n",
       "        </i></button>\n",
       "    <button onclick=\"anim0d27e69e89b14b4e90acb8001755eaaa.last_frame()\"><i class=\"fa fa-fast-forward\">\n",
       "        </i></button>\n",
       "    <button onclick=\"anim0d27e69e89b14b4e90acb8001755eaaa.faster()\"><i class=\"fa fa-plus\"></i></button>\n",
       "  <form action=\"#n\" name=\"_anim_loop_select0d27e69e89b14b4e90acb8001755eaaa\" class=\"anim_control\">\n",
       "    <input type=\"radio\" name=\"state\"\n",
       "           value=\"once\" > Once </input>\n",
       "    <input type=\"radio\" name=\"state\"\n",
       "           value=\"loop\" checked> Loop </input>\n",
       "    <input type=\"radio\" name=\"state\"\n",
       "           value=\"reflect\" > Reflect </input>\n",
       "  </form>\n",
       "</div>\n",
       "\n",
       "\n",
       "<script language=\"javascript\">\n",
       "  /* Instantiate the Animation class. */\n",
       "  /* The IDs given should match those used in the template above. */\n",
       "  (function() {\n",
       "    var img_id = \"_anim_img0d27e69e89b14b4e90acb8001755eaaa\";\n",
       "    var slider_id = \"_anim_slider0d27e69e89b14b4e90acb8001755eaaa\";\n",
       "    var loop_select_id = \"_anim_loop_select0d27e69e89b14b4e90acb8001755eaaa\";\n",
       "    var frames = new Array(0);\n",
       "    \n",
       "  frames[0] = \"data:image/png;base64,iVBORw0KGgoAAAANSUhEUgAAAkAAAAGwCAYAAABB4NqyAAAABHNCSVQICAgIfAhkiAAAAAlwSFlz\\\n",
       "AAALEgAACxIB0t1+/AAAADl0RVh0U29mdHdhcmUAbWF0cGxvdGxpYiB2ZXJzaW9uIDIuMi4zLCBo\\\n",
       "dHRwOi8vbWF0cGxvdGxpYi5vcmcvIxREBQAAIABJREFUeJzt3Xl8VNXBxvFnMlkJCZAQSCCBQCAL\\\n",
       "+xKIIAiCiihrtUVBRUW0aN9qLS61Kli3glh8LSL4WpUKWhfcQAVRWQrIpuwJYYcEEggJkIWsk3n/\\\n",
       "GERTLQaynJm5v++np5NMZoaHAZ3Hc8891+Z0Op0CAACwEB/TAQAAAOobBQgAAFgOBQgAAFgOBQgA\\\n",
       "AFgOBQgAAFgOBQgAAFgOBQgAAFgOBQgAAFgOBQgAAFgOBQgAAFgOBQgAAFgOBQgAAFgOBQgAAFgO\\\n",
       "BQgAAFgOBQgAAFgOBQgAAFgOBQgAAFgOBQgAAFgOBQgAAFgOBQgAAFgOBQgAAFgOBQgAAFgOBQgA\\\n",
       "AFgOBQgAAFgOBQgAAFgOBQgAAFgOBQgAAFgOBQgAAFgOBQgAAFgOBQgAAFgOBQgAAFgOBQgAAFgO\\\n",
       "BQgAAFgOBQgAAFgOBQgAAFgOBQgAAFgOBQgAAFgOBQgAAFgOBQgAAFgOBQgAAFgOBQgAAFgOBQgA\\\n",
       "AFgOBQgAAFgOBQgAAFgOBQgAAFgOBQgAAFgOBQgAAFgOBQgAAFgOBQgAAFgOBQgAAFiOr+kA7qyk\\\n",
       "pEQ7duxQRESE7Ha76TgAANQph8OhnJwcderUSYGBgabj1CkK0Hns2LFD48aNMx0DAIB6tWDBAiUn\\\n",
       "J5uOUacoQOcREREhyfUXITIy0nAaAADqVnZ2tsaNG3fu88+bUYDO4/vDXpGRkYqOjjacBgCA+mGF\\\n",
       "ZR8sggYAAJZDAQIAAJZDAQIAAJbDGiAAgCWVl5crMzNTJSUlpqPUu8DAQEVHR8vPz890FGMoQAAA\\\n",
       "S8rMzFRISIhiY2Nls9lMx6k3TqdTubm5yszMVJs2bUzHMYZDYAAASyopKVF4eLilyo8k2Ww2hYeH\\\n",
       "W3Lm68coQAAAy7Ja+fmeVX/fP0YBAgAAlkMBAgAAlkMBAgAAlkMBAgDATeXl5em2225Tr1699Mgj\\\n",
       "j+j555/XG2+8Ua3nXn/99dqzZ0/dBvRgFCAAANzU3Llz1bp1a23cuFGTJ0/WRx99pBtuuKFaz739\\\n",
       "9tv14osv1nFCz0UBAoCLMXCgawB1aO3atbr66qslSR988IEGDBigwMDAaj138ODBWr9+vY4fP16X\\\n",
       "ET0WBQgALkZ0tGsAdaCsrEw9e/bU7t27NWnSJA0fPlyrVq1Sr169zj1m+vTpuueee859P23aNI0f\\\n",
       "P17l5eWSpICAAHXs2FFr1qyp9/yegJ2gAeBizJ9vOgFq0bLFW/TFJ5vr9Ne4akR3XTmsW7Ue6+/v\\\n",
       "r3feeUe33HKL1q5dK0m65JJLquzcPHHiRF155ZVKS0vTli1btHr1ar311ltVLm8RFxenXbt21e5v\\\n",
       "xEtQgAAAcENpaWlKTEw8931BQYGCg4PPfd+kSRONHz9eDz74oAoLC/XWW28pJCSkymsEBwdzCOy/\\\n",
       "oAABwMW47z7X7QsvmM2BWnHlsG7Vnp2pL2lpaUpISDj3fWhoqIqKiqo8JikpSbNmzdKMGTMUFRX1\\\n",
       "k9coKipSaGhonWf1RKwBAoCLsWWLawB1JD09vcoMUEJCgg4ePFjl51OnTtXo0aO1cOHCn32Nffv2\\\n",
       "VXkN/IACBACAG9q1a1eV8jJgwABt3LhRknTs2DFNmjRJTzzxhKZMmaLdu3dr/fr1VZ5fVlamnTt3\\\n",
       "qm/fvvWa21NQgAAAcDM5OTk6ffq02rZte+6+kSNHauXKlSooKNDEiRN16623avDgwQoKCtKECRM0\\\n",
       "c+bMKq/x1VdfqXfv3mrevHl9x/cIrAECAMDNREREaMeOHVXuCwsL06hRo7Rw4UJ98sknVX42YcIE\\\n",
       "TZgwocp9r732mp5++uk6z+qpKEAAcDHi400ngAXdf//91X7se++9V4dJPB8FCAAuxiuvmE4AoAZY\\\n",
       "AwQAACyHAlSPjmWd0ifvrpfT6TQdBUBN3XmnawDwSBSgerRlw369NO0zHcs6ZToKgJravds1AHgk\\\n",
       "ClA9ah3XTJK0b1e24SQAAFgbBagetWnXXD52H+3dddR0FAAALI0CVI8CAv3Uuk2E9u7KMh0FAABL\\\n",
       "4zT4ehaXEKnv1u0zHQNATXVzrwtnArgwFKB61i4xSl9+ulW5OQUKjwgxHQfAxeIq8HAjK1eulOS6\\\n",
       "XhiqhwJUz9oltZAk7UvPogABAGosLy9PL5wt5F26dFGTJk0MJ/IMrAGqZ3HxkZLEOiDA0910k2sA\\\n",
       "hv3973/XAw88oPvvv18vvvii6TgegxmgetYgOEDRrcMpQICny8w0nQCQJE2ZMuXc1/379zeYxLN4\\\n",
       "zQzQ8uXLNWrUKI0cOVLDhw/XF198IUk6cOCAxowZoyFDhmjMmDE6ePCg2aByrQOiAAEAYI5XFCCn\\\n",
       "06kHH3xQ06dP18cff6znnntODz30kCorKzVlyhSNHTtWS5cu1dixY/X444+bjqu4hCgdyzql/FNn\\\n",
       "TEcBAMCSvKIASZKPj48KCgokSQUFBWrWrJlOnjyp1NRUDRs2TJI0bNgwpaamKi8vz2RUtUuMkiTt\\\n",
       "TWcWCADw3+Xl5em2225Tr1699Mgjj+j555/XG2+8Ua3nXn/99dqzZ0/dBvRgXrEGyGaz6YUXXtDd\\\n",
       "d9+tBg0aqKioSHPnzlVWVpaaN28uu90uSbLb7WrWrJmysrIUFhZW5TXy8/OVn59f5b7s7Lq5ZEW7\\\n",
       "BFcB2peepR4pcXXyawCoY336mE4AC5g7d65at26t119/XXl5eRo5cqSWLVtWrefefvvtevHFF/X3\\\n",
       "v/+9jlN6Jq8oQBUVFZo7d65mz56tnj176ttvv9Uf/vAHTZ8+vdqvMW/ePM2aNasOU/4gtHEDNY9q\\\n",
       "zDogwJM9+6zpBLCAtWvX6s9//rMk6YMPPtCAAQMUGBhYrecOHjxYU6dO1fHjx9WsWbO6jOmRvKIA\\\n",
       "paWl6fjx4+rZs6ckqWfPngoKClJAQICOHTsmh8Mhu90uh8Oh48ePKyoq6ievMX78eI0ePbrKfdnZ\\\n",
       "2Ro3blydZGYhNAC4h+LyYq04uEJHC47K4XTU2a9jt9nVIqSFBsYOVJBf0HkfW1ZWpj59+qiwsFCT\\\n",
       "Jk1SdHS0mjRpouuuu+7cY6ZPn65Dhw7ppZdekiRNmzZNqampevXVV+Xn56eAgAB17NhRa9as+cnn\\\n",
       "G7xkDVBkZKSys7O1f/9+SdK+fft04sQJtW7dWklJSVq8eLEkafHixUpKSvrJ4S9JCg0NVXR0dJUR\\\n",
       "GRlZZ5nbJUYp81CuigpL6uzXAFCHrrvONeDxVhxcoYz8jDotP5LkcDqUkZ+hFQdX/OJj/f399c47\\\n",
       "7yg8PFybN2/WokWLtHv3brVp0+bcYyZOnKj169crLS1Nb7/9tlavXq1Zs2bJz8/v3GPi4uK0a9eu\\\n",
       "uvjteDyvmAGKiIjQ1KlTde+998pms0mSnn32WTVu3FhTp07Vww8/rNmzZys0NFTTpk0znNYl7uw6\\\n",
       "oP17jqlz99aG0wC4YLm5phOglhwrOuaWv15aWpoSExPPfV9QUKDg4OBz3zdp0kTjx4/Xgw8+qMLC\\\n",
       "Qr311lsKCal6hYHg4GAdP368doJ7Ga8oQJI0YsQIjRgx4if3x8XF6b333jOQ6PzOnQmWdpQCBAAG\\\n",
       "NQ9uroz8jHr99aojLS1NCQkJ574PDQ1VUVFRlcckJSVp1qxZmjFjxs8u7ygqKlJoaGjNAnsprzgE\\\n",
       "5onCI0IUFt5Q+9Lr5kwzAED1DIwdqJjQGNlt9jr9dew2u2JCYzQwdmC1Hp+enl5lBighIaHKZr7p\\\n",
       "6emaOnWqRo8erYULF/7sa+zbt6/Ka+AHXjMD5IlYCA0A5gX5BWlo+6GmY/zErl279OCDD577fsCA\\\n",
       "Adq4caNGjBihY8eOadKkSXriiSfUt29fDR48WOvXr1dKSsq5x5eVlWnnzp3661//aiK+22MGyKB2\\\n",
       "iVE6dCBHpSXlpqMAuFCDB7sGUAdycnJ0+vRptW3b9tx9I0eO1MqVK1VQUKCJEyfq1ltv1eDBgxUU\\\n",
       "FKQJEyZo5syZVV7jq6++Uu/evdW8efUOuVkNM0AGtUtsoUpHpQ7sPabETtGm4wC4EI89ZjoBvFhE\\\n",
       "RIR27NhR5b6wsDCNGjVKCxcu1CeffFLlZxMmTNCECROq3Pfaa6/p6aefrvOsnooCZFBcous0+727\\\n",
       "sihAAIBfdP/991f7se54ApA74RCYQc2jGqthaBDrgABPNHSoawDwSMwAGWSz2dQuMUr7uCgq4HmK\\\n",
       "i00nAFADzAAZ1j4xSgf2HFNFed3uQAoAAH5AATKsXWKUyssdOnQgx3QUALAcp9NpOoIRVv19/xgF\\\n",
       "yLBzO0KzDggA6lVgYKByc3MtVwacTqdyc3OrfVV5b8UaIMNaxIQpqIG/9u46qiEjupuOA6C6hg0z\\\n",
       "nQA1FB0drczMTOXkWG8GPjAwUNHR1j77mAJkmI+Pj9rGRzIDBHiayZNNJ0AN+fn5Vbm6OqyFQ2Bu\\\n",
       "oH1ilPbvPiaHo9J0FAAALIEC5AbaJbZQSXGZjhzONR0FQHUNHOgaADwSBcgNsBAaAID6RQFyA63a\\\n",
       "NJV/gC8FCACAekIBcgN2X7ti2zWnAAEAUE8oQG7i+0tiWG0/CgAATKAAuYn2iVEqLCjRsaOnTEcB\\\n",
       "UB2/+Y1rAPBI7APkJr5fCL1nV5YiWzYxnAbAL7r7btMJANQAM0BuIjaumex2H+3dddR0FADVceaM\\\n",
       "awDwSMwAuQn/AD+1jmvGQmjAU1xzjet2xQqjMQBcHGaA3EhcQqT2pLEQGgCAukYBciPtE6N0+mSR\\\n",
       "cnMKTEcBAMCrUYDcSLvEFpKkPWmsAwIAoC5RgNxIXEKk7HYf7dqRaToKAABejUXQbiQwyF9t4yOV\\\n",
       "to0CBLi9W281nQBADVCA3Exi52gtW7RFDkel7HYm6AC3RQECPBqfsG6mQ+cYlRSX6eC+46ajADif\\\n",
       "EydcA4BHogC5maQu0ZKktG0ZhpMAOK/rr3cNAB6JAuRmIls2UaMmwdq1nXVAAADUFQqQm7HZbErq\\\n",
       "Eq207cwAAQBQVyhAbiipU7QyD+Uq/xTXGQIAoC5QgNxQUpcYSWI/IAAA6ginwbuhhI4t5eNjU9q2\\\n",
       "DPXuF286DoCfM2mS6QQAaoAC5IYCg/zVpn1zpTEDBLivMWNMJwBQAxwCc1NJnWOUvuOIHI5K01EA\\\n",
       "/JyMDNcA4JEoQG4qqUuMzhSVKuNAjukoAH7OzTe7BgCPRAFyU0mdXRsiprIhIgAAtY4C5KZaxIQp\\\n",
       "tFEDpbEhIgAAtY4C5KZsNpsSO0ezIzQAAHWAAuTGkrpE6/CBHBXkF5uOAgCAV+E0eDfWofMPGyL2\\\n",
       "6tvecBoAVfzxj6YTAKgBCpAbiz+7IeKu7RQgwO0MH246AYAa4BCYG2sQHKDWcc2UxplggPtJT3cN\\\n",
       "AB6JGSA3l9QlRiuX7lBlZaV8fOirgNu46y7X7YoVRmMAuDh8orq5pE7RKiosUcbBE6ajAADgNShA\\\n",
       "bu77K8NzGAwAgNpDAXJzLVuFqWFoEBsiAgBQiyhAbs7Hx0dJnaMpQAAA1CIWQXuApM7R2rR2r4oK\\\n",
       "ShQcEmg6DgBJevRR0wkA1AAzQB4gsXOMnE6ndu08YjoKgO9dcYVrAPBIFCAPkNixpWw2GwuhAXey\\\n",
       "ZYtrAPBIHALzAMEhgWrVNkK7drAOCHAb993numUfIMAjMQPkIb5fCF1ZWWk6CgAAHo8C5CE6dIlR\\\n",
       "YX6xMg/lmo4CAIDHowB5iMTO0ZKkXZwODwBAjXlNASotLdWUKVN01VVXafjw4XrsscckSQcOHNCY\\\n",
       "MWM0ZMgQjRkzRgcPHjQb9CLFxDZVw5BApW1nITQAADXlNYugn3vuOQUEBGjp0qWy2Ww6ccJ17awp\\\n",
       "U6Zo7NixGjlypD7++GM9/vjj+uc//2k47YXz8fFRQqdopW1jBghwC888YzoBgBrwihmgoqIiffTR\\\n",
       "R7r33ntls9kkSU2bNlVubq5SU1M1bNgwSdKwYcOUmpqqvLw8k3EvWlLnaB3cd1xnikpNRwHQt69r\\\n",
       "APBIXjEDlJGRocaNG2vWrFlav369goODde+99yowMFDNmzeX3W6XJNntdjVr1kxZWVkKCwur8hr5\\\n",
       "+fnKz8+vcl92dna9/R6qI+nshojpO4+oe++2puMA1rZ2reuWEgR4JK8oQBUVFcrIyFCHDh300EMP\\\n",
       "aevWrfrtb3+r//3f/632a8ybN0+zZs2qw5Q1l9CppSTXleEpQIBhjzziumUfIMAjeUUBatGihXx9\\\n",
       "fc8d6uratauaNGmiwMBAHTt2TA6HQ3a7XQ6HQ8ePH1dUVNRPXmP8+PEaPXp0lfuys7M1bty4evk9\\\n",
       "VEdIaJBaxzXTjs2HTEcBAMCjecUaoLCwMKWkpGjNmjWSXGd+5ebmKjY2VklJSVq8eLEkafHixUpK\\\n",
       "SvrJ4S9JCg0NVXR0dJURGRlZr7+P6ujSM1Y7thxWRbnDdBQAgGGZh05oO/9RfFG8ogBJ0hNPPKG5\\\n",
       "c+dq+PDhuv/++zV9+nSFhoZq6tSpmj9/voYMGaL58+friSeeMB21Rromt1FpSbnSU7kwKgBY3axp\\\n",
       "n+q1vy8zHcMjecUhMEmKiYnRm2+++ZP74+Li9N577xlIVDe69GgtSdq66YA6dm1lOA0AwJTSknLt\\\n",
       "2HxYw65PNh3FI3nNDJBVNGoSrDbtm2vbtwdNRwGs7YUXXAMwJHVbhsrLKtS9d5zpKB6JAuSBuvaM\\\n",
       "VeqWDJWVVZiOAlhXt26uARiyef0+2e0+6nz2yAAuDAXIA3VNbqPS0nKl72QdEGDMl1+6BmDI5o0H\\\n",
       "lNgpWg2CA0xH8UgUIA/UuWesbDabtm48YDoKYF1PPeUagAEF+cXak3pU3VPYE+5iUYA8UEhokOLi\\\n",
       "I1kHBAAWtXXTATmdTjbFrQEKkIfqkhyr1G0ZKistNx0FAFDPtmzYr8Ag/3NXCMCFowB5qK7JbVRe\\\n",
       "VqG07VwdHgCsZvOG/erSo7X8/LxmN5t6RwHyUJ27t5aPj01bN7EOCACs5Hj2aWUeymX9Tw1RHT1U\\\n",
       "cEig2iVGsQ4IMGXuXNMJYFFbNuyXJHVj/U+NMAPkwbr0jNWu7ZkqLWEdEFDvEhJcA6hnmzfsV+Ow\\\n",
       "YMXGNTMdxaNRgDxY1+Q2Ki93KHVbhukogPUsWuQaQD1yOp3asmG/uvVqKx8fPsJrgnfPg3Xq3lo+\\\n",
       "dh/WAQEmPP+8awD16ND+HOXlFqp77zamo3g8CpAHaxAcoPikFtq26aDpKACAerB5/T5JUvcUrv9V\\\n",
       "UxQgD9elZ6zSdx5RSXGZ6SgAgDq2ecN+tYgJU/OoxqajeDwKkIfrmtxGFRUO7dxy2HQUAEAdqih3\\\n",
       "aPt3h9j9uZZQgDxcx24xstt9tJXT4QHAq6WnHtGZolIKUC1hHyAPF9QgQAmdWmobC6GB+vXmm6YT\\\n",
       "wGI2r98vm82mrsksgK4NzAB5gS49Y5WeelRnikpNRwGsIybGNYB6smXjfrVLjFJo4wamo3gFCpAX\\\n",
       "6JrcRpWOStYBAfXpnXdcA6gHxWdKlbYtU904/b3WUIC8QIcuMfL1tWvrtxwGA+rNyy+7BlAPdmw+\\\n",
       "rIoKh7r35vT32kIB8gKBQf5K7BytrewHBABeafOG/fLz91Wnbq1MR/EaFCAv0aVnrPamHVVRQYnp\\\n",
       "KACAWrZ5w3517BqjgEA/01G8BgXIS3RNbqPKSqe2bz5kOgoAoBadyivU/t3ZXP29llGAvESHLtHy\\\n",
       "8/fVNvYDAgCvsuXs8gb2/6ld7APkJfwD/JTUOZoLowL15f33TSeARWxev0/BDQPVPqmF6ShehRkg\\\n",
       "L9I1OVb70rNVkF9sOgrg/Zo2dQ2gjm3esF9dk2Nlt/ORXZt4N71I1+Q2cjqd2v4d64CAOvfGG64B\\\n",
       "1KGszDwdO3pK3VM4/FXbKEBeJKFTtPwDfLWN/YCAukcBQj3YvGG/JLH/Tx2gAHkRf39fdejaSls2\\\n",
       "UoAAwBt8t36/mjYPVXTrcNNRvA4FyMv0SGmrA3uOKTcn33QUAEANOByV2rrxgLr3aiubzWY6jteh\\\n",
       "AHmZ3pfGS5I2rtljOAkAoCbStmUo//QZ9e4XbzqKV6IAeZnYds0U0byRNqymAAGAJ1u3Kl2+vnb1\\\n",
       "7MP6n7rAPkBexmazqVe/9lr++TaVl1fIz48/YqBOfPaZ6QTwct+sTFfX5FgFNww0HcUrMQPkhVL6\\\n",
       "xav4TJl2bD5sOgrgvRo0cA2gDmQcPKHMQyd0yYAE01G8FgXIC3Xr1UZ+/r7asHq36SiA95o92zWA\\\n",
       "OrBuVbok6ZL+FKC6QgHyQoFB/urSM5Z1QEBdevdd1wDqwLpV6YpLiFSzqMamo3gtCpCX6n1pe2Ue\\\n",
       "OqGjGXmmowAALsDpk0VK3XpYl1zG7E9dogB5qV792kuSNq7hMBgAeJINa/aostKpPgMSTUfxahQg\\\n",
       "L9UyJlzRrcO1gf2AAMCjrFuVrvCIELVLjDIdxatRgLxY737x2rrpoEqKy0xHAQBUQ1lpuTat3atL\\\n",
       "Lktg9+c6RgHyYr0uba/ysgquDQbUhRUrXAOoRVu/df1HK4e/6h4FyIt17tFaQQ38OR0eADzEupXp\\\n",
       "CgzyV9fkWNNRvB4FyIv5+fmqR0qcNqzeI6fTaToO4F1mzHCN6sjLk0aPloKDpdatpbfe+vnHOZ3S\\\n",
       "Qw9J4eGu8eCDrvtgCU6nU+tWpatnnzj5B/iZjuP1KEBertel7ZVz7LQO7TtuOgrgXRYvdo3quOce\\\n",
       "yd9fOnZMWrBAmjRJ2rnzp4975RXpo4+krVulbdtcrz93bu3mhtvauytLJ47ns/lhPaEAebneZ0+H\\\n",
       "X89hMMCMoiJp4ULpySelhg2lfv2kESOkN9/86WPnzZP++EcpOlpq2dL19Rtv1HtkmLFuVbpsNpt6\\\n",
       "9+fq7/WBAuTlwiNCFZcQqY2cDg+YsXu3ZLdL8T/6UOva9edngHbudP3slx4Hr7RuZbo6dIlR4ybB\\\n",
       "pqNYAgXIAnr3i9fOrRkqyC82HQWwnsJCqVGjqvc1aiQVFPzyYxs1ct3HOiCvl3PstPamZ3Hx03pE\\\n",
       "AbKAXpe2V6WjUt+t22c6CuA9goJc45c0bCjl51e9Lz9fCgn55cfm57vuYz8Yr3fu4qdc/qLeUIAs\\\n",
       "ILFTtEIaBXE6PFCbPv/cNX5JfLxUUSHt+dFh6K1bpY4df/rYjh1dP/ulx8HrrFuVrpatwhUT29R0\\\n",
       "FMugAFmA3e6j5D7ttHHtXlVWVpqOA1hLcLD0q19Jjz/uWhC9Zo308cfSzTf/9LG33CL97W/SkSPS\\\n",
       "0aPS889Lt95a75FRv84UlWrrxgPs/lzPKEAW0btfvE6fLNLu1KOmowDe4cknXaM6Zs+WioulZs2k\\\n",
       "G2+UXn7ZNbPz73+7DnF97667pOHDpc6dpU6dpGuvdd0Hr/btun0qL3eoD+t/6pWv6QCoH8l92snH\\\n",
       "x6aNa/YosVO06TiA5/vqK9ftY4/98mPDwlz7+/yn/v1di5y/Z7NJ06e7Bixj3cpdCmkUpA5dYkxH\\\n",
       "sRRmgCwitHEDJXaOZh0QALgRR4VDG1bvUe9+8bL72k3HsRQKkIX0urS9dqce1cncwl9+MACgzqVu\\\n",
       "z1T+6TPqw9lf9Y4CZCEp/VwbsbEpIgC4h3Urd8nPz66efdqZjmI5FCALaRsfqfCIEG2gAAE19/0F\\\n",
       "S4EaWLcqXV2S26hBcIDpKJbDImgLsdls6nVpe61atlMV5Q75+nG8GbhoCxeaTgAPd/hAjjIP5WrU\\\n",
       "DZeYjmJJXjcDNGvWLCUkJGj3btdi3y1btmjEiBEaMmSIbr/9duXm5hpOaFZKv3jXnhPfHjQdBQAs\\\n",
       "bcXS7bLZbOp7eaLpKJbkVQVo586d2rJli1q0aCFJcjqdeuCBB/T4449r6dKlSk5O1owZMwynNKtn\\\n",
       "n3YKauCvVct2mI4CeLY//ck1gIvgdDq1fMl2de3VRuERoabjWJLXFKCysjL95S9/0ZQpU87tpLl9\\\n",
       "+3YFBAQoOTlZknTDDTdoyZIlJmMaFxDopz4DErVmeZoqyh2m4wCe65tvXAO4COk7j+hoRp4GXd3Z\\\n",
       "dBTL8poC9L//+78aMWKEYmJ+2EgqKyvr3GyQJIWFhamyslKnTp36yfPz8/OVmZlZZWRnZ9dL9vp2\\\n",
       "2ZUdVXC6WJs37jcdBQAsafmS7fLz91W/QR1MR7Esr1gEvXnzZm3fvl2TJ0++6NeYN2+eZs2aVYup\\\n",
       "3FfPPu3UIDhAq5btVK++7U3HAQBLcVQ4tPKLHerdr72CQwJNx7EsryhAGzdu1P79+zV48GBJUnZ2\\\n",
       "tiZMmKCbb75ZR4/+cO2rvLw82Ww2NW7c+CevMX78eI0ePbrKfdnZ2Ro3blzdhjfA399XfQcmau3y\\\n",
       "NP3+kWHy8/OKvwYA4BG2bDqok7mFuvzqLqajWJpXfPLdeeeduvPOO899P2jQIM2ZM0ft2rXTu+++\\\n",
       "q02bNik5OVn/+te/NHTo0J99jdDQUIWGWmch2oCrOunLT7fqu3X7ldI/3nQcwPNEc009XJzlS7ap\\\n",
       "QXCAUvoxA2+SVxSg/8bHx0fTp0/XlClTVFpaqpYtW+q5554zHcstdE9pq4YhgVq5bAcFCLgY8+eb\\\n",
       "TgAPVFpSrjVfp6nf4A7yD/AzHcfSvLIAff311+e+7tGjhxYtWmQwjXvy8/NV38uTtPqrVJWVlvMP\\\n",
       "IgDUgw2rd+tMUakGDeXwl2lecxYYLtyAKzvpTFGpvl23z3QUwPPcd59rABfg68+3KaxpiLr0jDUd\\\n",
       "xfIoQBbWrVcbhTZqoJVfsCkicMG2bHENoJoK8ou1cc0eDRzSSXY7H7+m8SdgYb5+dl06KEnrVqWr\\\n",
       "tKTcdBwA8Gqrv0pVeblDl7P5oVugAFncZVd2VPGZMm1cyxXiAaAuLV+yXS1bhat9UotffjDqHAXI\\\n",
       "4rr2jFWjJsFatWyn6SgA4LVOHM/Xtm8PatDQzucu1wSzvPIsMFSf3deufoOS9OWnW1VSXKbAIH/T\\\n",
       "kQDPEM/2Eai+FUu3y+l0svmhG2EGCBpwVSeVlpRrw2oOgwHV9sorrgFUw/Il2xXfsaVatgo3HQVn\\\n",
       "UYCgTt1bq0l4Q61cxtlgAFDbDh/I0d5dWSx+djMUIMhu91G/wR20YfVuFZ8pNR0H8Ax33ukawC9Y\\\n",
       "vmS7fHxsGnBlJ9NR8CMUIEhbHqSBAAAgAElEQVRyHQYrK63QulW7TUcBPMPu3a4BnIfT6dTyz7ep\\\n",
       "a682Co8IMR0HP0IBgiSpY9cYhUeEaBWHwQCg1qTvOKKsIydZ/OyGKECQ5LpwbP8rOmrj2r0qKiwx\\\n",
       "HQcAvMLyJdvk5++rfpcnmY6C/0ABwjmXXdlR5WUVWrcq3XQUAPB4jgqHVnyxQyn94xUcEmg6Dv4D\\\n",
       "BQjnJHWOVkTzRlwbDKiObt1cA/gvtmw8oFN5RRrE4S+3xEaIOMd1GKyDPnlngwoLitUwJMh0JMB9\\\n",
       "vfCC6QRwc0s+/k4NQ4PU69J2pqPgZzADhCoGXNVJFRUOrVm+y3QUAPBYuTkFWvN1mq4a3k3+AX6m\\\n",
       "4+BnUIBQRULHlopuHa6lH31nOgrg3m66yTWAn7H04+/kcFRq2PW9TEfBf0EBQhU2m01Xj+qhnVsP\\\n",
       "69D+46bjAO4rM9M1gP/gqHDo0w82qUdKHJe+cGMUIPzElcO6ydfXriXMAgHABVv/7906cSxfw3/N\\\n",
       "7I87owDhJxqHNVSfAQn6cvFWlZVVmI4DAB5l0Xsb1bR5qFL6x5uOgvOgAOFnDR3dU/mnz2jt8jTT\\\n",
       "UQDAYxw5nKvv1u/Ttb9Klt3XbjoOzoMChJ/VPaWtmrdorM8//NZ0FMA99enjGsCPLH5/o+x2H109\\\n",
       "qofpKPgF7AOEn+Xj46OrR/bQvJe/1tGMPLWICTMdCXAvzz5rOgHcTElxmb5YtEWXDkpSWFMufOru\\\n",
       "mAHCf3XViO7y8bFpyUfMAgHAL1m5bKcK84s1/Ne9TUdBNVCA8F81bRaq3v3j9cWiLaood5iOA7iX\\\n",
       "665zDeCsxe9tUKu2Eerco7XpKKgGChDOa+ionjqZW6h1/+YCqUAVubmuAUhK33lEu1OPavive8lm\\\n",
       "s5mOg2qgAOG8evVtp6bNQlkMDQDnsfj9jQoM8tfga7qajoJqogDhvOy+dl01oru+/WafjmWdMh0H\\\n",
       "ANxO/ukzWrF0uwZd00XBDQNNx0E1UYDwi74/nXPpx+wMDQD/admiLSorreC6Xx6GAoRf1DyqsXpc\\\n",
       "Eqeln2yWw1FpOg7gHgYPdg1YWmVlpT5duEkdu7ZSXHyk6Ti4ABQgVMvQ0T114li+Nq3dazoK4B4e\\\n",
       "e8w1YGmbNxzQkcO5GsZ1vzwOBQjVcsll8WocFsxiaAD4kcXvbVCjJsHqN7iD6Si4QBQgVIufn6+u\\\n",
       "Gt5d61fvVm5Ovuk4gHlDh7oGLOt49mmtW5Wuq0d2l78/F1bwNBQgVNvVo3uo0lGppZ9sNh0FMK+4\\\n",
       "2DVgWZ9/sElOp3TNdcmmo+AiUIBQbS1jwtU1uY2WfrxZlZUshgZgXcVnSrX4/U1K6R+vyBZNTMfB\\\n",
       "RaAA4YIMHd1T2UdOavOGA6ajAIAxi9/fpPzTZ3TD7f1NR8FFogDhglx6eaJCGgXpsw82mY4CAEaU\\\n",
       "lpRr4fy16p7SVkmdY0zHwUWiAOGC+Af4aeionlq7PE1HMrgOEixs2DDXgOUs+ehbncwt1NgJA0xH\\\n",
       "QQ1QgHDBRt14iey+dr3/5lrTUQBzJk92DVhKWVmF3p23Rp26t1aXnrGm46AGKEC4YOERIbpyWFct\\\n",
       "W7RFeScKTMcBgHqzbNFmnTier7F3MPvj6ShAuCjX33KpHBUOffT2OtNRADMGDnQNWEZFuUPvvLFa\\\n",
       "iZ2i1SOlrek4qCEKEC5Ky5hwXTqogxa9t1FFBSWm4wBAnfvq8206dvSUxt4xQDabzXQc1BAFCBdt\\\n",
       "zK39dKaoVJ9yRhgAL+dwVOpfr61Su4Qo9e7X3nQc1AIKEC5a+6QW6p7SVh8u+EZlpeWm4wBAnVn5\\\n",
       "xQ4dzcjTjXdcxuyPl6AAoUZ+M76f8nIL9eWnW01HAYA6UVlZqbdfW6XYuGbqOzDRdBzUEgoQaqR7\\\n",
       "77Zqn9RC77+5Vg4Hl8eAhfzmN64Br7fm6zQd3p+jGydcJh8fPja9BX+SqBGbzabfjO+nI4dztXZ5\\\n",
       "muk4QP25+27XgFdzOp166x+rFN26qfpf0dF0HNQiChBq7NJBSWoRE6Z3562W0+k0HQeoH2fOuAa8\\\n",
       "2rpV6dq/O1s33N5fdjsfmd6EP03UmN3uo1/fcql2px7V1o1cJBUWcc01rgGv5XQ69darKxXZsoku\\\n",
       "H9LZdBzUMgoQasUV13ZVWHhDvfPGatNRAKBWfPvNPu1OPaoxt/aTr5/ddBzUMgoQaoV/gJ9Gjb1E\\\n",
       "363fpz1pR03HAYAa+X72J6J5I105vJvpOKgDFCDUmmHX9VKD4AC9O49ZIACe7ZuV6dq59bDG3NpP\\\n",
       "fn6+puOgDlCAUGuCQwI17PpeWv1Vqo5k5JqOAwAXpay0XK/8bYlatY3Q0NE9TcdBHaEAoVaNuvES\\\n",
       "2e0+ev/NtaajAHXr1ltdA17ngwXfKOvISU2aPJS1P16MAoRaFR4RoiuHd9OyRVt0LOuU6ThA3aEA\\\n",
       "eaUTx/P19mv/Vt+BieqREmc6DuoQBQi17sbbL5PNJr3x0lemowB158QJ14BXeW3Wl3JUODTxviGm\\\n",
       "o6COeUUBOnnypCZOnKghQ4Zo+PDh+t3vfqe8vDxJ0pYtWzRixAgNGTJEt99+u3JzWZtS15pFNdbo\\\n",
       "sX309efbtDv1iOk4QN24/nrXgNdI256hrz7dql/d1FctYsJMx0Ed84oCZLPZdMcdd2jp0qVatGiR\\\n",
       "YmJiNGPGDDmdTj3wwAN6/PHHtXTpUiUnJ2vGjBmm41rCmFv7qVGTYL0ycym7QwNwe5WVlZr93OcK\\\n",
       "jwjRjbf3Nx0H9cArClDjxo2VkpJy7vtu3brp6NGj2r59uwICApScnCxJuuGGG7RkyRJTMS0luGGg\\\n",
       "br5roLZ/d0jfrEw3HQcAzmvZ4q3avfOIJvz+SgU1CDAdB/XAKwrQj1VWVurtt9/WoEGDlJWVpRYt\\\n",
       "Wpz7WVhYmCorK3Xq1E8X5+bn5yszM7PKyM7Ors/oXuea0T0VE9tU/3jxC1WUO0zHAYCfVVRYotdn\\\n",
       "famkLjEaNLSL6TioJ163u9OTTz6pBg0a6KabbtKyZcuq/bx58+Zp1qxZdZjMeuy+dt1x71Wa8oe3\\\n",
       "9OkHmzRyTMovPwkA6tlbr67UydxCPTFzrGw2m+k4qCdeVYCmTZumQ4cOac6cOfLx8VFUVJSOHv3h\\\n",
       "sgx5eXmy2Wxq3LjxT547fvx4jR49usp92dnZGjduXJ3n9mYp/ePVrVcbzZ+7QoOv6aKGIUGmIwG1\\\n",
       "Y9Ik0wlQCzIPndBHb6/XVSO6K6FjS9NxUI+85hDYzJkztWPHDr300kvy9/eXJHXq1EklJSXatGmT\\\n",
       "JOlf//qXhg4d+rPPDw0NVXR0dJURGRlZb/m9lc1m08T7hqggv1j/ev3fpuMAtWfMGNeAR5v7t6Xy\\\n",
       "D/DVbfcMNh0F9cwrZoD27NmjOXPmKDY2VjfccIMkKTo6Wi+99JKmT5+uKVOmqLS0VC1bttRzzz1n\\\n",
       "OK31tEuM0hXXdtVHb63TsOt7KbJFE9ORgJrLyHDdxsSYzYGLtnHNHm1YvVt33HuVwpqGmI6DeuYV\\\n",
       "Bah9+/ZKT//5M4169OihRYsW1XMi/Kfxdw/SqmU79fqsL/WnZ35tOg5Qczff7LpdscJoDFyc8vIK\\\n",
       "zXn+c7VsFa5RN7I+0Yq85hAY3FtE80a67qY+WrF0h3ZtzzQdB4DFvfP6v5V5KFd33X81V3u3KAoQ\\\n",
       "6s2vx/dTk/CGbI4IwKhd2zO14NVVGjS0i1L6x5uOA0MoQKg3DYIDdMtvL9fOrYe1Znma6TgALKj4\\\n",
       "TKmmPbZQTSNCdM9D15iOA4MoQKhXQ0Z0V6u2EfrHi8tUXl5hOg4Ai3ll5lJlZZ7UA3/5FdtyWBwF\\\n",
       "CPXK7mvXnfcN0dGMPL37xmrTcYCL98c/ugY8xjcrd+mzD77V9bf0VZeesabjwDAKEOpdr0vba+CQ\\\n",
       "Tnrr1VXat5vLjcBDDR/uGvAIJ3MLNfPJTxSXEKlbfjvIdBy4AQoQjLjnwWsV0ihIM6Z8yKEweKb0\\\n",
       "dNeA23M6nfrbXz7WmaJSPfjkdfL356wvUIBgSGjjBvr9I8O1f3e23v7HKtNxgAt3112uAbf36cJN\\\n",
       "rg0Pf3+lYuOamY4DN0EBgjF9ByZq8LVd9fZr/9aetKO//AQAuEAZB0/olb8tVY+UOI0Y09t0HLgR\\\n",
       "ChCMmjR5qJqEBeu5KR+qrIxDYQBqT0W5Q9MfWyj/QF9NfmKUfHz4yMMP+NsAo0JCg3TfoyN0aN9x\\\n",
       "zZ+73HQcAF5kwasrtTv1qO59ZLjCI0JNx4GboQDBuN794jVkZHe99881XCYDQK3YufWw/vXaKl05\\\n",
       "rJv6X9HRdBy4IQoQ3MJdf7ha4RGhmjH1Q5WWlJuOA/yyRx91Dbid41mn9NQD76hZVGNNemCo6Thw\\\n",
       "UxQguIXgkED94fGRyjh4QvNe/tp0HOCXXXGFa8CtFBWW6PH73lJJSbmemDlWwQ0DTUeCm6IAwW30\\\n",
       "vCRO11yXrA8WfKOdWw6bjgOc35YtrgG34ahw6Jk/vadDB3L06PQxnPKO86IAwa1MvPcqNYtqpBlT\\\n",
       "P1RJcZnpOMB/d999rgG34HQ6Nfu5z7Vp7V79z8PXquclcaYjwc1RgOBWGgQH6P7HR+loRp5envG5\\\n",
       "nE6n6UgAPMCHb32jxe9v1K/HX6prfpVsOg48AAUIbqdbrzYac1t/LfnoO33y7gbTcQC4ubXL0/TK\\\n",
       "zC/Ub3AH3f471mWheihAcEu33j1Il1yWoDnPL9F36/eZjgPATe1OPaK//nmh4ju00IN/+RWbHaLa\\\n",
       "+JsCt+Tj46OHnrpOrWKb6umH3tWRw7mmIwFwM8ezTmnKfW+pcViwnpg5VgGBfqYjwYNQgOC2GgQH\\\n",
       "6ImZY+Xj46PH73tLhQXFpiMBP3jmGdeAEUWFJXrs3gUqKSnXky+OU5PwhqYjwcNQgODWIls20WPP\\\n",
       "jVFWZp6e+dP7clQ4TEcCXPr2dQ3Uu5LiMj314Ls6fPCEHp0+Rq3bcro7LhwFCG6vS89Y/e7ha/Xt\\\n",
       "N3v16ovLTMcBXNaudQ3Uq6LCEj36+/navGG//vDoCE53x0XzNR0AqI5rfpWsg3uP64MF3yg2rpmG\\\n",
       "jOxhOhKs7pFHXLcrVhiNYSWnTxbpz/8zX/t3Z+uhp67T5Vd3Nh0JHowCBI9x1/1DdPhgjl58ZrFa\\\n",
       "tgpXp+6tTUcCUE9OHM/Xn+75p7KPnNTjM27QJZclmI4ED8chMHgMu69df/7rb9S8RWP95YF3dCzr\\\n",
       "lOlIAOpBVmae/njHa8rJPq2nXryJ8oNaQQGCRwkJDdLUv92oinKHHv39fJ3MLTQdCUAdOrjvuO6f\\\n",
       "8JqKCks0bc6t6prcxnQkeAkKEDxOqzYRenzGDTp25JQmT3xdJ47nm44EoA6k7zyiyRNfkyTNeOU2\\\n",
       "JXRsaTgRvAkFCB6pW682enrWTcrNydfkia/rOIfDUN9eeME1UCe2bjqgh377hoIbBur5V29XbLvm\\\n",
       "piPBy1CA4LE694jVs7NvUf6pM5o88XVlZeaZjgQr6dbNNVCrnE6nPv/wW/35f+YrIrKRnn/1drWI\\\n",
       "CTMdC16IAgSPltQ5RtPmjNeZM6WaPPF1ZR46YToSrOLLL10DteZMUan++ueFeuGpT9SxWyvNeOU2\\\n",
       "NW0WajoWvBQFCB6vfVILTZ97q8rLHZo88XUd3HfcdCRYwVNPuQZqxd5dWbpn3BytWrZD4+8epGdm\\\n",
       "3axGTYJNx4IXowDBK7RtH6kZ/3ebbDabHrzzde3bnW06EoBqcDqd+uTd9brv1v9TWWmFpr9ym8ZO\\\n",
       "GCC7nY8n1C3+hsFrtGoToRn/d5v8A/z04F1vKH3nEdORAJxHYUGxnnzwHb007TN1T4nT7Ld+q85s\\\n",
       "cIp6QgGCV2nZKlwzXr1NDUMC9fCkeVq7PM10JAA/Y9f2TN09do7WrUzXxPuu0hMzb+SQF+oVBQhe\\\n",
       "J7JFE834v9sU3TpcT0z+l16ZuVQV5VxFHnAHxWdKNW/2V7p/wj8kSX/7xwRdf/Ol8vHh4wj1i2uB\\\n",
       "wStFNG+k5/8xQa/MXKqF89cqdVuGHnn212oW2ch0NHiLuXNNJ/AolZWV+vrz7Xrt78uUm1Ogwdd0\\\n",
       "0d0PXqOGIUGmo8GiKEDwWv7+vvrdQ9eqU/fWeuHJj3XP2Dl66KnrlNy3nelo8AYJXI+qutK2Z+jl\\\n",
       "5z5X+s4jiu/YUo9OH6MOXWJMx4LFUYDg9QZe1Ulx8ZF6+qF39ejv5+vG2/vrprsu5ywT1MyiRa7b\\\n",
       "4cPN5nBjOcdO67W/f6mvP9+msKYhmvzEaA2+pguHu+AWKECwhJjYpnrhjTs0+7nP9NY/Vmnn1gw9\\\n",
       "/PR1CmsaYjoaPNXzz7tuKUA/UVJcpvffXKt3561WZaVTN064TGNu7aegBgGmowHnUIBgGYFB/rr/\\\n",
       "8VHq1K21Zv31U90zdo7+55Hh6jMgQTabzXQ8wOPl5hRo8fsb9enCTTp9skj9r+ioO+69UpEtmpiO\\\n",
       "BvwEBQiWc9WI7orv0ELPPPK+nvjj2+qREqe7/ni1YuOamY4GeKRdOzL10dvrtGrZTlVWOpXSP16/\\\n",
       "vuVSdWJPH7gxChAsKbZdc81e8Ft9unCj/jlnuSbd+LKGX99LN901UKGNGpiOB7i9inKH/v1Vqj7+\\\n",
       "1zqlbc9Ug+AAjRjTWyN+k8LFS+ERKECwLF8/u0becIkGDumsf85ZrkXvbdDXS7Zp/G8H6Zpf9ZTd\\\n",
       "1246IuBWnE6nMg6e0KplO/XZB5uUm1Oglq3CdfcDQ3Xl8O5qEMwaH3gOChAsr1GTYP3Pn4bp2uuT\\\n",
       "NWfGEs2a9qkWv79RkyYPVbfebU3Hg7t6803TCepFZWWldu88qjXL07R2RZoyD+VKknpeEqf7Hh2h\\\n",
       "5L7tOKsLHokCBJzVtn2kps0ZrzXL0/TKzKV6aNI89ezTTqNuSOFf8vipGO/dx6ai3KGt3x7U2uVp\\\n",
       "+mblLuXmFMhu91HX5DYadcMl6jMwUU2bhZqOCdQIBQj4EZvNpn6DOqj3pe314dvr9NHb6/XYvQvU\\\n",
       "IiZMw3/TW0OGd1dwSKDpmHAH77zjuh0zxmyOWlBUUKJdO49o1/YM7dqeqZ1bM1RUWKKAQD/1urS9\\\n",
       "+g5MVO9+8QoJZddmeA8KEPAz/AP8NObW/vrVuD5a83WaPn5nveY+v0TzZn+tK67tqhFjeqt1W84a\\\n",
       "s7SXX3bdelgBclQ4lHEoV2nbXGUnbUemDu/PkdPplM1mU6u2Ebrsyo5K6R+vHilxCgj0Mx0ZqBMU\\\n",
       "IOA8/Px8NXBIZw0c0ll70o7qk3c3aOknm7X4/Y3q1quNhl3fS8l927HBm8Us2L5AcZnrVFJRqltf\\\n",
       "iNXTg5/WuM7jTMc6p7KyUieO5SvzcK6OHM7V0Yw8HTmcqyOH85R95KQqKlwXBw5pFKSkTtEacGVH\\\n",
       "JXWJUUKHlsxwwjIoQEA1tU9qoT9OGaU7fn+llnz0nRa9t1FPPfSu/Pzs6pLcRin945XSL16RLdn0\\\n",
       "rSaKy4u14uAKHS04KofTYTrOT6zPXK/52+draUWZJOnQ6UO6/ePb9fX+r5USnVInv2als1IV5Q6V\\\n",
       "lzlUVlah4jNlOlNYquIzpSoqKlVxUanOFJXqTFGZzhSVqiC/WI4Kh+T0UUBJQ0UVtFdMy+ZqHReh\\\n",
       "vgMT1apthJI6R6tlq3A2AYVlUYCAC9SoSbDG3NZf19/cV9s3H9aG1bu1/t+7NXv6Z5o9/TO1jmum\\\n",
       "lH7xSukfr6TO0ZxOf4FWHFyhjPyM//pzp9Mph6NS5eUOOSocKi93qKLCoYpyhyodlXI4XD93fV15\\\n",
       "9uuz91VWqtLplLPSKTl17usf7nPKKcmps//ndOr7L7//4oOS91TmLKuSqcxRpne2vqey9Iaup3z/\\\n",
       "vLMv5HT+8HWl06lKh9OVr9J1W1lZNXNFuavolJdVqKzMoYryivO+ZwFB/gpuEKCgYH81bRaqtvHN\\\n",
       "1TgsWI2bNFTjsGAltmyna+OvvdA/CsCrUYCAi2T3tatbrzbq1quN7vzDEB05nKv1Z8vQwvmu6yA1\\\n",
       "DAlU+w4t1C4xSu0SohSXEKWWrcIsd0aZ0+lUWWmFigpLVFhQoqLCEhUVlKqwsERFBcUqLCjRmaJS\\\n",
       "FReVaeWZz1VSVqKyUteHf3lZuasElFWcLTuV+lElqWU2/XhCxGb78fc2ySYVdSiQfmbSpKiyQNs2\\\n",
       "Hfz+ifKxnXsR1yyL63+y2Wyy233kY7fJx8dH9rO3Pj42+dh9ZLf7KDDIX/7+dvkF+MrPz1f+/r7y\\\n",
       "87PLz99Xfv52BTXwV4PgQDUI9ldQA3/Z7ecv2Tlncmr2tgBeiAIE1JKWrcL1q7F99KuxfVRUUKLv\\\n",
       "1u/Tpm/2am9alj5csO7cuovAIH+1jW9+rhS1aBWuphEhCm8WKn9/9/5HsrSkXIUFxSrIL1Fhvqu4\\\n",
       "FOQXn/u6ML9YBflnf15QrML8H35eXn7+w1k+PjYFNQjQyRbFqmhYJD9/u/wC/NQg2F/+Z4uAr59d\\\n",
       "fn52+fr6yNfP7hq+P7q1+5wrEedKxvdfny0bNptNNh9XsbHZfOTj833RsVXrcNCfvlqtvOI8Xf+b\\\n",
       "qveHNQjTPQ+55yxL8+DmpiMAbse9/20LeKjgkED1v6Kj+l/RUZJUXl6hw/tztDc9W/t2ZWnvriwt\\\n",
       "W7RFn7yzocrzGjUJVtNmIWraLNQ1moeqcZNgBQb6KzDITwFBrtvA728D/RUQ6PrH2HWY5YdDO3I6\\\n",
       "z91XVlah0pJylZVWqKSkXGUl5SotKVdpaYVKS8p05kyZzhSWqKiwVGcKS10zNIWudSWu2ZoSFRSU\\\n",
       "qLzs/IdighsGqmFooEJCgtSwUZBatw1Rw9Cgc/c1aBighiFBahgSePbrQNdzQgIVEOgnm83m9muA\\\n",
       "RiWM0vzt85Ub/MNhMH+7v0YljDKY6ufZbXa1CGmhgbEDTUcB3A4FCKgHfn6+ijt7CEwjuktynamT\\\n",
       "lXlS2UdP6cTxfOUez1fO8XydOJavnGP52rU9U6dPnanXnIFB/gpuGKDghoFnbwMUEdlIwQ0DFBLq\\\n",
       "Ki6uQhOkkHNfu8pNcEig7PaaH9oL8gvS0PZDa+F3Uzfu7HmnBrUdpM3P3qvcM7laPrC1250FBuCX\\\n",
       "UYAAQ3x8fNSyVbhatgr/r48pLSlXQX6xSorLVFJc/sNtSZmKz5SppLjsh1kZm002uQ4l6ezaFdvZ\\\n",
       "hSf+AX4KCPRTYKCf/AN8f/S1nwICfBUUHKAGwQG1UmCsYFzncRp39P9c39y3wmgWABeHAgS4sYBA\\\n",
       "PzaiA4A6YIn/3Dtw4IDGjBmjIUOGaMyYMTp48KDpSAAAwCBLFKApU6Zo7NixWrp0qcaOHavHH3/c\\\n",
       "dCQAAGCQ1xeg3NxcpaamatiwYZKkYcOGKTU1VXl5eYaTAQAAU7x+DVBWVpaaN29+bqMwu92uZs2a\\\n",
       "KSsrS2FhYecel5+fr/z8/CrPzc7OrtesADzIZ5+ZTgCgBry+AFXXvHnzNGvWLNMxAHiKBg1MJwBQ\\\n",
       "A15fgKKionTs2DE5HA7Z7XY5HA4dP35cUVFRVR43fvx4jR49usp92dnZGjeOvT0A/IzZs123d99t\\\n",
       "NgeAi+L1BSg8PFxJSUlavHixRo4cqcWLFyspKanK4S9JCg0NVWhoqKGUADzOu++6bilAgEfy+gIk\\\n",
       "SVOnTtXDDz+s2bNnKzQ0VNOmTTMdCQAAGGSJAhQXF6f33nvPdAwAAOAmvP40eAAAgP9EAQIAAJZj\\\n",
       "iUNgAFDrVqwwnQBADTADBAAALIcCBAAALIcCBAAALIcCBAAALIcCBAAALIcCBAAALIcCBAAALIcC\\\n",
       "BAAALIcCBAAALIcCBAAALIcCBAAALIcCBAAALIcCBAAALIerwZ+Hw+GQJGVnZxtOAgBA3fv+8+77\\\n",
       "zz9vRgE6j5ycHEnSuHHjDCcBAKD+5OTkqHXr1qZj1Cmb0+l0mg7hrkpKSrRjxw5FRETIbrfX+PWy\\\n",
       "s7M1btw4LViwQJGRkbWQ0Hp4D2sH72PN8R7WHO9hzdX2e+hwOJSTk6NOnTopMDCwFhK6L2aAziMw\\\n",
       "MFDJycm1/rqRkZGKjo6u9de1Et7D2sH7WHO8hzXHe1hztfkeevvMz/dYBA0AACyHAgQAACyHAgQA\\\n",
       "ACzHPnXq1KmmQ1hJQECAUlJSFBAQYDqKx+I9rB28jzXHe1hzvIc1x3t4cTgLDAAAWA6HwAAAgOVQ\\\n",
       "gAAAgOVQgAx4+eWXNXz4cI0aNUojR47UZ599ZjqSR3riiSd09dVXa8SIEbrhhhu0fft205E8zscf\\\n",
       "f6zhw4erQ4cOmj9/vuk4HuPAgQMaM2aMhgwZojFjxujgwYOmI3mcadOmadCgQUpISNDu3btNx/E4\\\n",
       "J0+e1MSJEzVkyBANHz5cv/vd75SXl2c6lkdhDZABBQUFCgkJkSQdO3ZMQ4cO1fLly9WoUSPDyTzL\\\n",
       "8uXL1a9fP/n5+Wn58uV6+umn9eWXX5qO5VF2794tHx8fvfLKK+rSpYtuuukm05E8wi233KLrrrtO\\\n",
       "I0eO1Mcff6yFCxfqn//8p+lYHmXTpk1q2bKlxo0bpzlz5ig+Pt50JI9y6tQppaenKyUlRZKrUJ4+\\\n",
       "fVrPPPOM4WSegxkgA74vP5J05swZ2Ww2VVZWGkzkmS6//HL5+flJkrp166bs7GzexwsUHx+vdu3a\\\n",
       "yceHfxVUV25urlJTUzVs2DBJ0rBhw5Samsp/fV+g5ORkRUVFmY7hsRo3bnyu/EiufwcePXrUYCLP\\\n",
       "w6UwDHn77bc1b948ZWdn65lnnlGTJk1MR/JoCxYs0MCBA/kgR53LyspS8+bNz10f0G63q1mzZsrK\\\n",
       "ylJYWJjhdLCiyspKvf322xo0aJDpKB6FAlQHRo8e/V+b+Nq1a2W323XjjTfqxhtvVHp6uiZPnqw+\\\n",
       "ffpQgv5Ddd5HSfr000+1aNEiLViwoD7jeYTqvocAPNeTTz6pBg0acAj7AlGA6sCHH35Y7ccmJCSo\\\n",
       "WbNm2rBhg4YMGVKHqTxPdd7HZcuWaebMmXrjjTfUtGnTekjlWS7k7yKqJyoqSseOHZPD4ZDdbpfD\\\n",
       "4dDx48c5nAMjpk2bpkOHDmnOnDnMgF8g3i0D9u3bd+7rjIwMpaWlqV27dgYTeably5fr2Wef1T/+\\\n",
       "8Q+uJI16Ex4erqSkJIwTj84AAAGaSURBVC1evFiStHjxYiUlJXH4C/Vu5syZ2rFjh1566SX5+/ub\\\n",
       "juNxOAvMgHvvvVd79+6Vr6+v7Ha77rjjDl1zzTWmY3mcSy65RH5+flU+eN544w0OJV6AxYsXa/r0\\\n",
       "6crPz5efn5+CgoL02muvUch/wb59+/Twww8rPz9foaGhmjZtmtq2bWs6lkd56qmn9MUXX+jEiRNq\\\n",
       "0qSJGjdurE8//dR0LI+xZ88eDRs2TLGxsQoMDJQkRUdH66WXXjKczHNQgAAAgOVwCAwAAFgOBQgA\\\n",
       "AFgOBQgAAFgOBQgAAFgOBQgAAFgOBQgAAFgOBQgAAFgOBQgAAFgOBQgAAFgOBQgAAFgOBQgAAFgO\\\n",
       "BQgAAFgOBQgAAFgOBQgAAFgOBQgAAFgOBQgAAFgOBQgAAFgOBQgAAFgOBQgAAFgOBQgAAFgOBQgA\\\n",
       "AFgOBQgAAFgOBQgAAFgOBQgAAFgOBQgAAFgOBQgAAFgOBQgAAFgOBQgAAFgOBQgAAFgOBQgAAFgO\\\n",
       "BQgAAFgOBQgAAFgOBQgAAFgOBQgAAFgOBQgAAFjO/wNqSoBJuvxZmwAAAABJRU5ErkJggg==\\\n",
       "\"\n",
       "\n",
       "\n",
       "    /* set a timeout to make sure all the above elements are created before\n",
       "       the object is initialized. */\n",
       "    setTimeout(function() {\n",
       "        anim0d27e69e89b14b4e90acb8001755eaaa = new Animation(frames, img_id, slider_id, 200.0,\n",
       "                                 loop_select_id);\n",
       "    }, 0);\n",
       "  })()\n",
       "</script>\n"
      ],
      "text/plain": [
       "<IPython.core.display.HTML object>"
      ]
     },
     "execution_count": 39,
     "metadata": {},
     "output_type": "execute_result"
    },
    {
     "data": {
      "image/png": "[encoded data removed]",
      "text/plain": [
       "<Figure size 576x432 with 1 Axes>"
      ]
     },
     "metadata": {},
     "output_type": "display_data"
    }
   ],
   "source": [
    "from IPython.display import HTML\n",
    "from matplotlib import animation\n",
    "\n",
    "# Initialize the figure and draw f(x)\n",
    "fig, ax = plt.subplots(figsize=(8,6))\n",
    "x_range = np.linspace(-3, 2)\n",
    "ax.plot(x_range,f(x_range))\n",
    "\n",
    "# Draw and save in global variables the Taylor approximation\n",
    "dxs = np.linspace(-0.5, 0.5, num=100)                  \n",
    "taylorCurve = ax.plot(x+dxs, taylorf(x,dxs), 'g-', linewidth=5, alpha=0.4)[0]\n",
    "spot = ax.plot(x,f(x),'go')[0]         \n",
    "y0,y1 = plt.ylim()\n",
    "dashedLine = ax.plot([x,x],[y0,y1],'r--')[0]\n",
    "text = ax.text(x, (y0+y1)*0.5, str(x), color='r')\n",
    "ax.legend((r'$f(x)$', r'$\\hat{f(x)}$'), fontsize='medium')\n",
    "  \n",
    "anim = animation.FuncAnimation(fig, update, generator)\n",
    "HTML(anim.to_jshtml())"
   ]
  },
  {
   "cell_type": "markdown",
   "metadata": {},
   "source": [
    "## Multivariate Optimization\n",
    "\n",
    "We may wish to find the maximum of a function of several variables:\n",
    "\n",
    "$$f:\\mathbf{R}^k \\rightarrow \\mathbf{R}$$\n",
    "\n",
    "Assume:\n",
    "\n",
    "* first- and second-order partial derivatives exist, and are everywhere continuous.\n",
    "\n",
    "$$\\begin{align}\n",
    "\\mathbf{x} &= (x_1, x_2, \\ldots, x_k) \\cr\n",
    "&= x_1 \\mathbf{e}_1 + x_2 \\mathbf{e}_2, + \\ldots + x_k \\mathbf{e}_k\n",
    "\\end{align}$$\n",
    "\n",
    "where $\\mathbf{e}_i$ is the coordinate vector of element $i$.\n",
    "\n",
    "Denote the $i$th partial derivative with respect to $x_i$ as $f_i(x)=\\frac{\\partial f(\\mathbf{x})}{\\partial x_i}$.\n",
    "\n",
    "And we define the *gradient*:\n",
    "\n",
    "$$\\nabla f(\\mathbf{x}) = (f_1(\\mathbf{x}), \\ldots, f_k(\\mathbf{x}))'$$\n",
    "\n",
    "And the *hessian*:\n",
    "\n",
    "$$H(\\mathbf{x})  = \\left(\n",
    "\\begin{array}{c}\n",
    "  \\frac{\\partial^2 f(\\mathbf{x})}{\\partial x_1 \\partial x_1} & \\cdots & \\frac{\\partial^2 f(\\mathbf{x})}{\\partial x_1 \\partial x_k}  \\cr\n",
    "  \\vdots & \\ddots & \\vdots \\cr\n",
    "  \\frac{\\partial^2 f(\\mathbf{x})}{\\partial x_k \\partial x_1} & \\cdots & \\frac{\\partial^2 f(\\mathbf{x})}{\\partial x_k \\partial x_k}\n",
    "\\end{array}\\right)$$"
   ]
  },
  {
   "cell_type": "markdown",
   "metadata": {},
   "source": [
    "### Curvature\n",
    "\n",
    "For any vector other than $\\mathbf{0}$, the *slope* at $\\mathbf{x}$ in direction $\\mathbf{v}$ is given by:\n",
    "\n",
    "$$\\frac{\\mathbf{v}' \\nabla f(\\mathbf{x})}{||\\mathbf{v}||}$$\n",
    "\n",
    "where $||\\mathbf{v}||$ is the *euclidean norm* of $\\mathbf{v}$.\n",
    "\n",
    "$$||\\mathbf{v}|| = \\sqrt{v_1^2 + \\ldots + v_k^2} = \\sqrt{\\mathbf{v} \\cdot \\mathbf{v}}$$\n",
    "\n",
    "The *curvature* at point $\\mathbf{x}$ is:\n",
    "\n",
    "$$\\frac{\\mathbf{v}' H(\\mathbf{x}) \\mathbf{v}}{||\\mathbf{v}||^2}$$\n"
   ]
  },
  {
   "cell_type": "markdown",
   "metadata": {},
   "source": [
    "$f$ has a local maximum if, for all $i=1,\\ldots,k$ and sufficiently small $\\epsilon$:\n",
    "\n",
    "$$f(\\mathbf{x} + \\epsilon \\mathbf{e}_i) \\le f(\\mathbf{x})$$\n",
    "\n",
    "provided that:\n",
    "\n",
    "$$\\nabla f(\\mathbf{x}) = \\mathbf{0} = (0,\\ldots,0)'$$\n",
    "\n",
    "and the slope at $x$ in direction $v$ is $\\le 0$ (*necessary* condition). This implies that the Hessian is negative semi-definite.\n",
    "\n",
    "A *sufficient* condition is that the slope $v$ is $\\lt 0$ (negative definite Hessian).\n",
    "\n",
    "***How do we find the maximum?***"
   ]
  },
  {
   "cell_type": "markdown",
   "metadata": {},
   "source": [
    "### Steepest Ascent/Descent\n",
    "\n",
    "The steepest ascent (descent) method is a iterative search algorithm. For a function $f:\\mathbf{R}^k \\rightarrow \\mathbf{R}$ with continuous partial derivatives, we iterate via:\n",
    "\n",
    "$$\\mathbf{x}_{i+1} = \\mathbf{x}_i + \\alpha \\mathbf{v}_{i}^*$$\n",
    "\n",
    "where:\n",
    "\n",
    "* $\\alpha$ = positive scalar step size\n",
    "* $\\mathbf{v}_{i}^*$ = direction of largest slope at position $i$\n",
    "\n",
    "$$\\mathbf{v}_{i}^* = \\text{argmax}_{\\mathbf{v}} \\frac{\\mathbf{v}' \\nabla f(\\mathbf{x}_i)}{||\\mathbf{v}||}$$\n",
    "\n",
    "Questions:\n",
    "\n",
    "1. How do we find this direction?\n",
    "2. How big of a step do we take?"
   ]
  },
  {
   "cell_type": "markdown",
   "metadata": {},
   "source": [
    "We need to maximize the slope, so consider the partial derivative with respect to $v_i$:\n",
    "\n",
    "$$\\frac{\\partial}{\\partial v_j} \\frac{\\mathbf{v}' \\nabla f(\\mathbf{x})}{||\\mathbf{v}||} = \\frac{f_j(\\mathbf{x})}{||\\mathbf{v}||} - \\frac{(\\mathbf{v}' \\nabla f(\\mathbf{x}))v_j}{||\\mathbf{v}||^3}$$\n",
    "\n",
    "Setting this equal to zero, we end up with:\n",
    "\n",
    "$$v_j \\propto f_j(\\mathbf{x})$$\n",
    "\n",
    "which implies that at point $\\mathbf{x}$, the direction with the largest slope is $\\nabla f(\\mathbf{x})$. So, steepest ascent is:\n",
    "\n",
    "$$\\mathbf{x}_{x+1} = \\mathbf{x}_i + \\alpha \\nabla f(\\mathbf{x}_i)$$"
   ]
  },
  {
   "cell_type": "markdown",
   "metadata": {},
   "source": [
    "What is the appropriate step size $\\alpha$?\n",
    "\n",
    "* too large, and we risk over-shooting the maximum\n",
    "* too small, and the search is inefficient\n",
    "\n",
    "We want to choose $\\alpha$ to maximize:\n",
    "\n",
    "$$g(\\alpha) = f(\\mathbf{x}_i + \\alpha \\nabla f(\\mathbf{x}_i))$$\n",
    "\n",
    "We already know how to optimize univariate functions!"
   ]
  },
  {
   "cell_type": "markdown",
   "metadata": {},
   "source": [
    "Stopping conditions may include:\n",
    "\n",
    "* $||\\mathbf{x}_i - \\mathbf{x}_{i-1}|| \\le \\epsilon$\n",
    "* $|f(\\mathbf{x}_i) - f(\\mathbf{x}_{i-1})| \\le \\epsilon$\n",
    "* $||\\nabla f(\\mathbf{x}_i)|| \\le \\epsilon$\n",
    "\n",
    "for some small tolerance value $\\epsilon$."
   ]
  },
  {
   "cell_type": "markdown",
   "metadata": {},
   "source": [
    "### Pseudocode\n",
    "\n",
    "Putting it all together, our steepest ascent algorithm should look something like this:\n",
    "\n",
    "1. Initialize $\\mathbf{x}_0$ and $\\mathbf{x}_1$\n",
    "2. Initialize counter $i=1$\n",
    "3. While $f(\\mathbf{x}_i) - f(\\mathbf{x}_{i-1}) \\gt \\epsilon$:\n",
    "\n",
    "    * $\\mathbf{x}_{i-1} \\leftarrow \\mathbf{x}_i$\n",
    "    * Find optimal step size\n",
    "    * Calculate new $\\mathbf{x}_i = \\mathbf{x}_{i-1} + \\alpha \\nabla f(\\mathbf{x}_{i-1})$\n",
    "    * Increment $i$"
   ]
  },
  {
   "cell_type": "markdown",
   "metadata": {},
   "source": [
    "The function below implements gradient descent in Python, again using a **generator**.\n",
    "\n",
    "> ### NumPy's class instances\n",
    "> You may notice the strange `r_` syntax below. This is not a function (notice the square brackets), though it behaves as one. `r_` is a **class instance** that is used to concatenate sequences in a Matlab-like syntax. When indexing using square brackets is used, it calls a `__getitem__` method associated with that class. In this case, `__getitem__` concatenates the values passed, rather than using them as indices. \n",
    "> In other words ... this is a HACK."
   ]
  },
  {
   "cell_type": "code",
   "execution_count": 40,
   "metadata": {},
   "outputs": [],
   "source": [
    "from scipy import optimize\n",
    "\n",
    "def gradient_descent(init_loc, f, f_prime, step=None):\n",
    "    \n",
    "    x_i, y_i = init_loc\n",
    "\n",
    "    for i in range(1, 100):\n",
    "        fxy = (f([x_i, y_i]))\n",
    "        dx_i, dy_i = f_prime(np.asarray([x_i, y_i]))\n",
    "        if step is None:\n",
    "            # Compute a step size using a line_search\n",
    "            step = optimize.line_search(f, f_prime,\n",
    "                                np.r_[x_i, y_i], -np.r_[dx_i, dy_i],\n",
    "                                np.r_[dx_i, dy_i], c2=.05)\n",
    "            step = step[0]\n",
    "            \n",
    "        x_i += -step*dx_i\n",
    "        y_i += -step*dy_i\n",
    "        \n",
    "    return x_i, y_i, fxy"
   ]
  },
  {
   "cell_type": "markdown",
   "metadata": {},
   "source": [
    "As a simple example, we can use gradient descent to find the peak of a quadratic function, with varying conditioning.\n",
    "\n",
    "> ### Nested functions\n",
    "> Below is a function that returns two functions. Previously we saw that functions can be passed as arguments to other functions; so too can they be created and returned by other functions. Here, we are doing this because the functions need to be parameterized before they are used. "
   ]
  },
  {
   "cell_type": "code",
   "execution_count": 41,
   "metadata": {},
   "outputs": [],
   "source": [
    "def quad(epsilon, ndim=2):\n",
    "    \n",
    "    def f(x):\n",
    "        y = np.array(x)*np.power(epsilon, np.arange(ndim))\n",
    "        return .33*np.sum(y**2)\n",
    "\n",
    "    def f_prime(x):\n",
    "        scaling = np.power(epsilon, np.arange(ndim))\n",
    "        y = np.array(x)*scaling\n",
    "        return .33*2*scaling*y\n",
    "\n",
    "    return f, f_prime"
   ]
  },
  {
   "cell_type": "markdown",
   "metadata": {},
   "source": [
    "We specify an initial guess at the minimum, and run our gradient descent algorithm:"
   ]
  },
  {
   "cell_type": "code",
   "execution_count": 42,
   "metadata": {},
   "outputs": [],
   "source": [
    "x0, y0 = 1.6, 1.1\n",
    "f, f_prime = quad(0.8)"
   ]
  },
  {
   "cell_type": "code",
   "execution_count": 43,
   "metadata": {},
   "outputs": [
    {
     "data": {
      "text/plain": [
       "<matplotlib.contour.QuadContourSet at 0x7a689a730160>"
      ]
     },
     "execution_count": 43,
     "metadata": {},
     "output_type": "execute_result"
    },
    {
     "data": {
      "image/png": "[encoded data removed]",
      "text/plain": [
       "<Figure size 432x288 with 1 Axes>"
      ]
     },
     "metadata": {},
     "output_type": "display_data"
    }
   ],
   "source": [
    "xvals = np.linspace(-3, 3)\n",
    "yvals = np.linspace(-3, 3)\n",
    "plt.contour(xvals, yvals, np.array([[f((x,y)) for x in xvals] for y in yvals]))"
   ]
  },
  {
   "cell_type": "code",
   "execution_count": 44,
   "metadata": {},
   "outputs": [
    {
     "data": {
      "text/plain": [
       "(-4.565675398057117e-120, 1.2392182190653183e-49, 3.161134144331188e-98)"
      ]
     },
     "execution_count": 44,
     "metadata": {},
     "output_type": "execute_result"
    }
   ],
   "source": [
    "gradient_descent([x0, y0], f, f_prime)"
   ]
  },
  {
   "cell_type": "markdown",
   "metadata": {},
   "source": [
    "### Exercise\n",
    "\n",
    "Modify the gradient descent function to store the values generated at each step of the optimization, and provide suitable conditions for stopping, rather than arbitrarily iterating for 100 steps. The function should return a table (call it `gd_output`) of values for x, y, and f((x,y))."
   ]
  },
  {
   "cell_type": "code",
   "execution_count": 43,
   "metadata": {},
   "outputs": [],
   "source": [
    "## Write your answer here"
   ]
  },
  {
   "cell_type": "markdown",
   "metadata": {},
   "source": [
    "### Nelder-Mead Algorithm\n",
    "\n",
    "While there are a variety of gradient-based mutlivariate optimization methods at our disposal, for many problems of interest, first and second derivatives may not be available. The **Nelder-Mead simplex algorithm** is an alternative approach that uses direct search instead of gradient ascent. It has a couple of advantages: \n",
    "\n",
    "- it does not require derivatives\n",
    "- it can optimize (minimize) a vector of parameters\n",
    "\n",
    "It works by refining a simplex, the generalization of intervals and triangles to high-dimensional spaces, to bracket the minimum.\n",
    "\n",
    "Since it is not based on gradients, Nelder-Mead is robust when the target function is not smooth, though it is slower for smooth functions."
   ]
  },
  {
   "cell_type": "code",
   "execution_count": 58,
   "metadata": {},
   "outputs": [],
   "source": [
    "def rosenbrock(x):\n",
    "    y = 4*x\n",
    "    y[0] += 1\n",
    "    y[1:] += 3\n",
    "    return np.sum(.5*(1 - y[:-1])**2 + (y[1:] - y[:-1]**2)**2)"
   ]
  },
  {
   "cell_type": "markdown",
   "metadata": {},
   "source": [
    "SciPy's `fmin` function implements Nelder-Mead.\n",
    "\n",
    "> ### Callbacks\n",
    "> Several of SciPy's optimization algorithms implement **callbacks**. A callback is a function that is passed as an argument to another function, which is expected to call back (execute) the argument at some convenient time. Here, this allows us to keep track of intermediate values in the optimization."
   ]
  },
  {
   "cell_type": "code",
   "execution_count": 45,
   "metadata": {},
   "outputs": [],
   "source": [
    "from scipy import optimize\n",
    "\n",
    "def nelder_mead(f, x0):\n",
    "    output = []\n",
    "    \n",
    "    def store(X):\n",
    "        output.append([X[0], X[1], f(X)])\n",
    "        \n",
    "    optimize.fmin(f, x0, callback=store, ftol=1e-12)\n",
    "    \n",
    "    return np.array(output)"
   ]
  },
  {
   "cell_type": "code",
   "execution_count": 46,
   "metadata": {},
   "outputs": [
    {
     "name": "stdout",
     "output_type": "stream",
     "text": [
      "Optimization terminated successfully.\n",
      "         Current function value: 0.000000\n",
      "         Iterations: 79\n",
      "         Function evaluations: 151\n"
     ]
    }
   ],
   "source": [
    "nm_output = nelder_mead(rosenbrock, np.array([x0, y0]))"
   ]
  },
  {
   "cell_type": "code",
   "execution_count": 47,
   "metadata": {},
   "outputs": [],
   "source": [
    "def plot_opt(output, f):\n",
    "    \n",
    "    all_x_i, all_y_i, all_f_i = output.T\n",
    "    \n",
    "    x_min, x_max = -1, 2\n",
    "    y_min, y_max = 2.25/3*x_min - .2, 2.25/3*x_max - .2\n",
    "    \n",
    "    levels = dict()\n",
    "    \n",
    "    # A formatter to print values on contours\n",
    "    def super_fmt(value):\n",
    "        if value > 1:\n",
    "            if np.abs(int(value) - value) < .1:\n",
    "                out = '$10^{%.1i}$' % value\n",
    "            else:\n",
    "                out = '$10^{%.1f}$' % value\n",
    "        else:\n",
    "            value = np.exp(value - .01)\n",
    "            if value > .1:\n",
    "                out = '%1.1f' % value\n",
    "            elif value > .01:\n",
    "                out = '%.2f' % value\n",
    "            else:\n",
    "                out = '%.2e' % value\n",
    "        return out\n",
    "    \n",
    "    # Plot the contour plot\n",
    "    if not max(all_y_i) < y_max:\n",
    "        x_min *= 1.2\n",
    "        x_max *= 1.2\n",
    "        y_min *= 1.2\n",
    "        y_max *= 1.2\n",
    "    x, y = np.mgrid[x_min:x_max:100j, y_min:y_max:100j]\n",
    "    x = x.T\n",
    "    y = y.T\n",
    "    \n",
    "    X = np.concatenate((x[np.newaxis, ...], y[np.newaxis, ...]), axis=0)\n",
    "    z = np.apply_along_axis(f, 0, X)\n",
    "    log_z = np.log(z + .01)\n",
    "    plt.imshow(log_z,\n",
    "            extent=[x_min, x_max, y_min, y_max],\n",
    "            cmap=plt.cm.gray_r, origin='lower',\n",
    "            vmax=log_z.min() + 1.5*log_z.ptp())\n",
    "    contours = plt.contour(log_z,\n",
    "                        levels=levels.get(f, None),\n",
    "                        extent=[x_min, x_max, y_min, y_max],\n",
    "                        cmap=plt.cm.gnuplot, origin='lower')\n",
    "    levels[f] = contours.levels\n",
    "    plt.clabel(contours, inline=1,\n",
    "                fmt=super_fmt, fontsize=14)\n",
    "    \n",
    "    plt.plot(all_x_i, all_y_i, 'b-', linewidth=2)\n",
    "    plt.plot(all_x_i, all_y_i, 'k+')\n",
    "    \n",
    "    plt.plot([0], [0], 'rx', markersize=12)\n",
    "    \n",
    "    \n",
    "    plt.xticks(())\n",
    "    plt.yticks(())\n",
    "    plt.xlim(x_min, x_max)\n",
    "    plt.ylim(y_min, y_max)"
   ]
  },
  {
   "cell_type": "code",
   "execution_count": 48,
   "metadata": {},
   "outputs": [
    {
     "data": {
      "image/png": "[encoded data removed]",
      "text/plain": [
       "<Figure size 432x288 with 1 Axes>"
      ]
     },
     "metadata": {},
     "output_type": "display_data"
    }
   ],
   "source": [
    "plot_opt(nm_output, rosenbrock)"
   ]
  },
  {
   "cell_type": "markdown",
   "metadata": {},
   "source": [
    "### Example: truncated distribution\n",
    "\n",
    "Suppose that we observe $Y$ truncated below at $a$ (where $a$ is known). If $X$ is the distribution of our observation, then:\n",
    "\n",
    "$$ P(X \\le x) = P(Y \\le x|Y \\gt a) = \\frac{P(a \\lt Y \\le x)}{P(Y \\gt a)}$$\n",
    "\n",
    "(so, $Y$ is the original variable and $X$ is the truncated variable) \n",
    "\n",
    "Then X has the density:\n",
    "\n",
    "$$f_X(x) = \\frac{f_Y (x)}{1−F_Y (a)} \\, \\text{for} \\, x \\gt a$$ \n",
    "\n",
    "Suppose $Y \\sim N(\\mu, \\sigma^2)$ and $x_1,\\ldots,x_n$ are independent observations of $X$. We can use maximum likelihood to find $\\mu$ and $\\sigma$. "
   ]
  },
  {
   "cell_type": "markdown",
   "metadata": {},
   "source": [
    "First, we can simulate a truncated distribution using a `while` statement to eliminate samples that are outside the support of the truncated distribution."
   ]
  },
  {
   "cell_type": "code",
   "execution_count": 49,
   "metadata": {},
   "outputs": [
    {
     "data": {
      "text/plain": [
       "<matplotlib.axes._subplots.AxesSubplot at 0x7a30640755c0>"
      ]
     },
     "execution_count": 49,
     "metadata": {},
     "output_type": "execute_result"
    },
    {
     "data": {
      "image/png": "[encoded data removed]",
      "text/plain": [
       "<Figure size 432x288 with 1 Axes>"
      ]
     },
     "metadata": {},
     "output_type": "display_data"
    }
   ],
   "source": [
    "x = np.random.normal(size=10000)\n",
    "a = -1\n",
    "x_small = x < a\n",
    "while x_small.sum():\n",
    "    x[x_small] = np.random.normal(size=x_small.sum())\n",
    "    x_small = x < a\n",
    "    \n",
    "sns.distplot(x, kde=False)"
   ]
  },
  {
   "cell_type": "markdown",
   "metadata": {},
   "source": [
    "We can construct a log likelihood for this function using the conditional form:\n",
    "\n",
    "$$f_X(x) = \\frac{f_Y (x)}{1−F_Y (a)} \\, \\text{for} \\, x \\gt a$$ "
   ]
  },
  {
   "cell_type": "code",
   "execution_count": 50,
   "metadata": {},
   "outputs": [],
   "source": [
    "from scipy.stats.distributions import norm\n",
    "\n",
    "trunc_norm = lambda theta, a, x: -(norm.logpdf(x, theta[0], theta[1]) - \n",
    "            np.log(1 - norm.cdf(a, theta[0], theta[1]))).sum()"
   ]
  },
  {
   "cell_type": "code",
   "execution_count": 51,
   "metadata": {},
   "outputs": [
    {
     "name": "stdout",
     "output_type": "stream",
     "text": [
      "Optimization terminated successfully.\n",
      "         Current function value: 11057.910875\n",
      "         Iterations: 42\n",
      "         Function evaluations: 82\n"
     ]
    },
    {
     "data": {
      "text/plain": [
       "array([-0.04161139,  1.02558124])"
      ]
     },
     "execution_count": 51,
     "metadata": {},
     "output_type": "execute_result"
    }
   ],
   "source": [
    "optimize.fmin(trunc_norm, np.array([1,2]), args=(-1, x))"
   ]
  },
  {
   "cell_type": "markdown",
   "metadata": {},
   "source": [
    "In general, simulating data is a terrific way of testing your model before using it with real data."
   ]
  },
  {
   "cell_type": "markdown",
   "metadata": {},
   "source": [
    "---\n",
    "## References\n",
    "\n",
    "Chapter 2 of [Givens, Geof H.; Hoeting, Jennifer A. (2012-10-09). Computational Statistics (Wiley Series in Computational Statistics)](http://www.stat.colostate.edu/computationalstatistics/)\n",
    "\n",
    "[Python Scientific Lecture Notes](http://scipy-lectures.github.io)"
   ]
  }
 ],
 "metadata": {
  "anaconda-cloud": {},
  "kernelspec": {
   "display_name": "Python 3",
   "language": "python",
   "name": "python3"
  },
  "language_info": {
   "codemirror_mode": {
    "name": "ipython",
    "version": 3
   },
   "file_extension": ".py",
   "mimetype": "text/x-python",
   "name": "python",
   "nbconvert_exporter": "python",
   "pygments_lexer": "ipython3",
   "version": "3.6.6"
  },
  "nav_menu": {},
  "toc": {
   "navigate_menu": true,
   "number_sections": false,
   "sideBar": true,
   "threshold": 6,
   "toc_cell": false,
   "toc_section_display": "block",
   "toc_window_display": false
  }
 },
 "nbformat": 4,
 "nbformat_minor": 2
}
